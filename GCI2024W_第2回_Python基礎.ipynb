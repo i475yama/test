{
  "nbformat": 4,
  "nbformat_minor": 0,
  "metadata": {
    "colab": {
      "provenance": [],
      "include_colab_link": true
    },
    "kernelspec": {
      "name": "python3",
      "display_name": "Python 3"
    },
    "language_info": {
      "name": "python"
    }
  },
  "cells": [
    {
      "cell_type": "markdown",
      "metadata": {
        "id": "view-in-github",
        "colab_type": "text"
      },
      "source": [
        "<a href=\"https://colab.research.google.com/github/i475yama/test/blob/main/GCI2024W_%E7%AC%AC2%E5%9B%9E_Python%E5%9F%BA%E7%A4%8E.ipynb\" target=\"_parent\"><img src=\"https://colab.research.google.com/assets/colab-badge.svg\" alt=\"Open In Colab\"/></a>"
      ]
    },
    {
      "cell_type": "markdown",
      "source": [
        "# 0.概論"
      ],
      "metadata": {
        "id": "6ojSC-6lkgK0"
      }
    },
    {
      "cell_type": "markdown",
      "source": [
        "**プログラミング**とは、「ある目的のためにプログラム(コンピュータに対する命令を並べたもの)を設計・構築する」プロセスのことを言います。もう少し簡単に言えば、「ある計算を行う手順を記述する」のがプログラミングです。\n",
        "\n",
        "例えば、2と3の和を求めるとき、下のようなプログラムを書いて実行することでその答えを知ることができます。単純な例ですが、これも立派なプログラムです。"
      ],
      "metadata": {
        "id": "bNQ_E_EUk9iU"
      }
    },
    {
      "cell_type": "code",
      "source": [
        "2 + 6"
      ],
      "metadata": {
        "id": "u48dkVSelC_c"
      },
      "execution_count": null,
      "outputs": []
    },
    {
      "cell_type": "markdown",
      "source": [
        "より複雑な例として、1から10までの和を求めるプログラムを以下に示します。(詳細については以降の節で学びます。)"
      ],
      "metadata": {
        "id": "PLTDTMcOmVRg"
      }
    },
    {
      "cell_type": "code",
      "source": [
        "s = 0\n",
        "for n in range(1,11):\n",
        "    s = s + n\n",
        "s"
      ],
      "metadata": {
        "id": "Ahk2G3Ssl3cB"
      },
      "execution_count": null,
      "outputs": []
    },
    {
      "cell_type": "markdown",
      "source": [
        "プログラミングをするときには何らかの**プログラミング言語**を使用します。プログラミング言語には「Aというプログラムを書くとBという処理が行われる」というような規則が定められています。これを**文法**と言いますが、文法は使用するプログラミング言語によって異なります。プログラミングの学習は、この文法を知ることから始まります。\n",
        "\n",
        "データ分析・機械学習のためのツールが豊富に揃っているという理由で、この講座ではPythonという言語を使ってプログラミングをしていきます。実際、その領域でPythonを使っている人はとても多いです。またPythonはプログラミング初学者にとって比較的わかりやすい言語であり、学習コストが低いのも魅力の1つです。ということで、このChapterではPythonの基礎文法を学んでいきます。"
      ],
      "metadata": {
        "id": "ggK2Str3mlzv"
      }
    },
    {
      "cell_type": "markdown",
      "source": [
        "## 0.2. プログラミングの進め方"
      ],
      "metadata": {
        "id": "lJcH8Yc4mvQn"
      }
    },
    {
      "cell_type": "markdown",
      "source": [
        "これから実際にPythonでプログラミングをしていきますが、その進め方について簡単に説明します。\n",
        "このファイルを読むために**Google Colaboratory**(やそれに類するツール)を利用していると思います。Google ColaboratoryはPythonの実行環境を提供しており、**セル**と呼ばれるボックスにPythonプログラムを書いてShift + Enterを押すことで実行することができます。\n",
        "\n",
        "セルにはいくつかの種類がありますが、そのうちプログラムを実行するためのセルが**Codeセル**です。プログラムを書いて実行するとその実行結果が表示されます。\n",
        "\n",
        "ノートブックにはメモを残すこともできます。そのためのセルが**Textセル**です。Markdown記法を用いることで見栄えの良いテキストを作成することができます。"
      ],
      "metadata": {
        "id": "28z5JOUBmz0f"
      }
    },
    {
      "cell_type": "markdown",
      "source": [
        "では、先ほどのプログラムを実行してみましょう。正しい実行結果が返ってきたらOKです。"
      ],
      "metadata": {
        "id": "W4IM2tpim4Lc"
      }
    },
    {
      "cell_type": "code",
      "source": [
        "2 + 3"
      ],
      "metadata": {
        "id": "VatiPCD1m867"
      },
      "execution_count": null,
      "outputs": []
    },
    {
      "cell_type": "code",
      "source": [
        "s = 0\n",
        "for n in range(1,11):\n",
        "    s = s + n\n",
        "s"
      ],
      "metadata": {
        "id": "d9uiZ-ckm8Lk"
      },
      "execution_count": null,
      "outputs": []
    },
    {
      "cell_type": "markdown",
      "source": [
        "## 0.3. コメント"
      ],
      "metadata": {
        "id": "h-ji3srAnCCG"
      }
    },
    {
      "cell_type": "markdown",
      "source": [
        "Jupyter Notebook以外にも、Pythonの実行環境は様々あります。例えばPythonのインタラクティブシェルは入力されたプログラムに対してその実行結果を返しますが、基本的に入力プログラムや出力結果を保存しないため、シェルを閉じると内容が消えてしまいます。それに対してJupyter Notebookはプログラムとその実行結果をともに保存しておけるので、ノートブックを閉じても問題ありません。\n",
        "\n",
        "しかし、プログラムが残っていたとしてもその意味がわからなくなることがあるかもしれません。プログラムを書く際には適度にメモを残していくことで、後で見返したときに役立ちます。多くのプログラミング言語ではプログラムに**コメント**をつけることができ、コメントとして書いた部分はプログラム実行のときに無視されるようになっています。\n",
        "\n",
        "Pythonでは`#`の右側部分がコメントとみなされます。例で確認してみましょう。"
      ],
      "metadata": {
        "id": "WfZSz5synFq1"
      }
    },
    {
      "cell_type": "code",
      "source": [
        "# 足し算\n",
        "2 + 3 # 足し算\n",
        "# コメント..."
      ],
      "metadata": {
        "id": "Kldjb6mjnKqk"
      },
      "execution_count": null,
      "outputs": []
    },
    {
      "cell_type": "markdown",
      "source": [
        "## 0.4. エラーへの対処方法"
      ],
      "metadata": {
        "id": "PKPhJjbEnN71"
      }
    },
    {
      "cell_type": "markdown",
      "source": [
        "プログラミングには**エラー**がつきものです。文法に則らないプログラムを書いたり、何らかの不正な処理をしたりしたときにエラーが発生します。エラーが発生すると、その場所でプログラムの実行が停止し、どの部分でどのような原因でエラーが生じたかがエラーメッセージとして表示されます。これからたくさんのエラーに遭遇すると思いますが、まずはエラーメッセージを解読するよう努めましょう。もしその意味が分からなければ、インターネットで検索してみましょう。同様のエラーで苦しんだ人が必ずいるはずです。"
      ],
      "metadata": {
        "id": "E-xK1JpDnSOT"
      }
    },
    {
      "cell_type": "markdown",
      "source": [
        "# 1.Python文法 I\n",
        "関連解説動画：https://www.youtube.com/playlist?list=PLT07SIG9QbZy4JDwxeRtLyfajJetCuhBi"
      ],
      "metadata": {
        "id": "kaY17pI-Lj0K"
      }
    },
    {
      "cell_type": "markdown",
      "source": [
        "## 1.1.演算子"
      ],
      "metadata": {
        "id": "Ul713RAJNQzu"
      }
    },
    {
      "cell_type": "markdown",
      "source": [
        "### 1.1.1.算術演算子"
      ],
      "metadata": {
        "id": "ZQFnR-QrT2NQ"
      }
    },
    {
      "cell_type": "markdown",
      "source": [
        "プログラミングでは、計算処理を指示する**演算子**によって新たな値に評価されます。特に、足し算や引き算などの算術演算子は、数学のように数値間に置いて計算します。Pythonでは、足し算や引き算は数学の記号と共通しますが、掛け算や割り算、べき乗は特有の記号となります。"
      ],
      "metadata": {
        "id": "wg-lASByOxLz"
      }
    },
    {
      "cell_type": "code",
      "source": [
        "# 足し算\n",
        "print(2 + 3)"
      ],
      "metadata": {
        "id": "fVJ-sEFtOvT4"
      },
      "execution_count": null,
      "outputs": []
    },
    {
      "cell_type": "code",
      "source": [
        "# 引き算\n",
        "print(10 - 2)"
      ],
      "metadata": {
        "id": "_MWElYsCO05s"
      },
      "execution_count": null,
      "outputs": []
    },
    {
      "cell_type": "code",
      "source": [
        "# 掛け算\n",
        "print(3 * 2)"
      ],
      "metadata": {
        "id": "zkHkngJ_O3Ye"
      },
      "execution_count": null,
      "outputs": []
    },
    {
      "cell_type": "code",
      "source": [
        "# 割り算\n",
        "print(3 / 2)"
      ],
      "metadata": {
        "id": "ofIOKV25Pp8e"
      },
      "execution_count": null,
      "outputs": []
    },
    {
      "cell_type": "code",
      "source": [
        "# 割り算（整数部）\n",
        "print(5//2)"
      ],
      "metadata": {
        "id": "JaHodWYTPycC"
      },
      "execution_count": null,
      "outputs": []
    },
    {
      "cell_type": "code",
      "source": [
        "# 割り算（余り部）\n",
        "print(5 % 2)"
      ],
      "metadata": {
        "id": "vw3RAtmVQMKc"
      },
      "execution_count": null,
      "outputs": []
    },
    {
      "cell_type": "code",
      "source": [
        "# べき乗\n",
        "print(10 ** 3)"
      ],
      "metadata": {
        "id": "fGQrQl3BQcFo",
        "outputId": "6fdac3ef-5133-4e1e-a68c-f92ce4eb57ff",
        "colab": {
          "base_uri": "https://localhost:8080/"
        }
      },
      "execution_count": 1,
      "outputs": [
        {
          "output_type": "stream",
          "name": "stdout",
          "text": [
            "1000\n"
          ]
        }
      ]
    },
    {
      "cell_type": "markdown",
      "source": [
        "### 1.1.2. 算術演算子の優先度"
      ],
      "metadata": {
        "id": "oe2VdUgeUD7L"
      }
    },
    {
      "cell_type": "markdown",
      "source": [
        "演算子が複数ある場合、優先度の高い演算子順に評価されます。算術演算子の優先度は、べき乗 > 掛け算・割り算 > 足し算・引き算の順となっており、数学のように足し算より掛け算の優先度が高く、「()」により優先度が変更します。"
      ],
      "metadata": {
        "id": "JFin85KrPpqS"
      }
    },
    {
      "cell_type": "code",
      "source": [
        "# 優先度：掛け算＞足し算\n",
        "print(1 + 2 * 3)"
      ],
      "metadata": {
        "id": "zo4CgegxQ4DR",
        "outputId": "4e4634f9-9399-4bf2-a31d-faf0414e10a4",
        "colab": {
          "base_uri": "https://localhost:8080/"
        }
      },
      "execution_count": 2,
      "outputs": [
        {
          "output_type": "stream",
          "name": "stdout",
          "text": [
            "7\n"
          ]
        }
      ]
    },
    {
      "cell_type": "code",
      "source": [
        "# 優先度：かっこ内の足し算＞掛け算\n",
        "print((1 + 2) * 3)"
      ],
      "metadata": {
        "id": "u3vcJgJiRTJt",
        "outputId": "daacdfb4-03c5-4d1e-fcc7-6abb8e2db104",
        "colab": {
          "base_uri": "https://localhost:8080/"
        }
      },
      "execution_count": 3,
      "outputs": [
        {
          "output_type": "stream",
          "name": "stdout",
          "text": [
            "9\n"
          ]
        }
      ]
    },
    {
      "cell_type": "code",
      "source": [
        "# 優先度：べき乗＞掛け算\n",
        "print(2 * 2 ** 3)"
      ],
      "metadata": {
        "id": "Zshe0KPdQ-P3",
        "outputId": "e6af2d54-9c92-4b6f-cdb8-0b048b9a4efd",
        "colab": {
          "base_uri": "https://localhost:8080/"
        }
      },
      "execution_count": 4,
      "outputs": [
        {
          "output_type": "stream",
          "name": "stdout",
          "text": [
            "16\n"
          ]
        }
      ]
    },
    {
      "cell_type": "markdown",
      "metadata": {
        "id": "7TGjC-SzQ-YK"
      },
      "source": [
        "## 1.2.変数"
      ]
    },
    {
      "cell_type": "markdown",
      "metadata": {
        "id": "9sWKqfMNQ-YK"
      },
      "source": [
        "次に**変数**について説明します。変数とは、式の計算結果を保存しておく箱のようなものです。\n",
        "\n",
        "変数に値を保存することを**代入**と言い、その値を取り出して利用することを**参照**と言います。数字だけでなく、様々なデータ型の値を代入できます。(※3.データ型)\n",
        "\n",
        "下の例では**変数名**が`x`である変数を使っています。\n",
        "\n",
        "プログラミング言語において`=`は「等しい」という意味ではなく、右辺の値を左辺に「代入する」という意味で使います。"
      ]
    },
    {
      "cell_type": "code",
      "execution_count": 5,
      "metadata": {
        "id": "_aGMIZ1WQ-YK",
        "outputId": "d1d74b0b-de97-4770-eae3-dd3ccd5a2a7f",
        "colab": {
          "base_uri": "https://localhost:8080/"
        }
      },
      "outputs": [
        {
          "output_type": "stream",
          "name": "stdout",
          "text": [
            "1\n"
          ]
        }
      ],
      "source": [
        "# xに1を代入し、xを参照する\n",
        "x = 1\n",
        "print(x)"
      ]
    },
    {
      "cell_type": "code",
      "source": [
        "word = \"Hello\"\n",
        "print(word)"
      ],
      "metadata": {
        "id": "49t74M46I5uq",
        "outputId": "18f61ece-b2b3-4f6d-fc6d-5e661e0cfc26",
        "colab": {
          "base_uri": "https://localhost:8080/"
        }
      },
      "execution_count": 6,
      "outputs": [
        {
          "output_type": "stream",
          "name": "stdout",
          "text": [
            "Hello\n"
          ]
        }
      ]
    },
    {
      "cell_type": "markdown",
      "metadata": {
        "id": "YoWlbFPsQ-YK"
      },
      "source": [
        "一度保存した値は何度でも利用することができ、上書きされるまで残り続けます。変数の値を上書きすることを**再代入**といいます。再代入のときも代入と同様に書くことができます。\n",
        "自分自身を使って再代入することも可能です。"
      ]
    },
    {
      "cell_type": "code",
      "execution_count": 7,
      "metadata": {
        "id": "lFsr3_WjQ-YL",
        "collapsed": true,
        "outputId": "cc55152d-544a-462b-9492-3b90629e5ba0",
        "colab": {
          "base_uri": "https://localhost:8080/"
        }
      },
      "outputs": [
        {
          "output_type": "stream",
          "name": "stdout",
          "text": [
            "1\n",
            "2\n"
          ]
        }
      ],
      "source": [
        "# xに2を再代入する\n",
        "x = 1\n",
        "print(x)\n",
        "x = 2\n",
        "print(x)"
      ]
    },
    {
      "cell_type": "code",
      "execution_count": 8,
      "metadata": {
        "id": "biXQapk9Q-YL",
        "outputId": "eee283d9-9cc1-4001-b317-0fe3275fae0b",
        "colab": {
          "base_uri": "https://localhost:8080/"
        }
      },
      "outputs": [
        {
          "output_type": "stream",
          "name": "stdout",
          "text": [
            "1\n",
            "3\n"
          ]
        }
      ],
      "source": [
        "# x+2をxに再代入する\n",
        "x = 1\n",
        "print(x)\n",
        "x = x + 2\n",
        "print(x)"
      ]
    },
    {
      "cell_type": "markdown",
      "metadata": {
        "id": "iKzYdJiyQ-YL"
      },
      "source": [
        "直前の例の2行目について説明します。ここではまず右辺の`x+2`を計算し、そしてその結果を左辺の`x`に代入する、という処理を行います。右辺の計算をする時点で`x`の値は1なので、右辺の計算結果が3となり、左辺の`x`に3が代入されます。つまり、自分自身に2を足していると解釈できます。このように、変数の値を更新しながら計算を進めていくというのはよくあることです。"
      ]
    },
    {
      "cell_type": "markdown",
      "source": [
        "## 1.3.データ型"
      ],
      "metadata": {
        "id": "vEfhTDBFWlQa"
      }
    },
    {
      "cell_type": "markdown",
      "source": [
        "プログラムで扱う値の種類を**データ型**と言います。主なデータ型には、int型(整数)とfloat型(小数)、str型(文字列)、bool型(真偽値)などがあります。変数に代入した値のデータ型は、type関数で調べられます。type関数では、かっこ内に変数を入力すると変数のデータ型が出力されます。\n"
      ],
      "metadata": {
        "id": "LFdtwV5DWtEY"
      }
    },
    {
      "cell_type": "markdown",
      "source": [
        "### 1.3.1. int型（整数）とfloat型（小数）\n",
        "\n",
        "数値を扱えるのがint型とfloat型です。数値に小数点を入れて代入するとfloat型となります。\n",
        "\n",
        "int型とfloat型の演算やint型同士の割り算では、出力がfloat型になります。"
      ],
      "metadata": {
        "id": "XQMISR-67Qz7"
      }
    },
    {
      "cell_type": "code",
      "source": [
        "# int型（整数）\n",
        "num = 1\n",
        "print(type(num))"
      ],
      "metadata": {
        "id": "0J_FQBulvLAz",
        "outputId": "fd0fdd43-452b-43aa-c3a0-3de5b42de946",
        "colab": {
          "base_uri": "https://localhost:8080/"
        }
      },
      "execution_count": 9,
      "outputs": [
        {
          "output_type": "stream",
          "name": "stdout",
          "text": [
            "<class 'int'>\n"
          ]
        }
      ]
    },
    {
      "cell_type": "code",
      "source": [
        "# float型（小数）\n",
        "num = 1.0\n",
        "print(type(num))"
      ],
      "metadata": {
        "id": "K4CgvTt5vK4v"
      },
      "execution_count": null,
      "outputs": []
    },
    {
      "cell_type": "code",
      "source": [
        "#int型とfloat型の演算 -> float型\n",
        "num = 1 + 1.0\n",
        "print(type(num))"
      ],
      "metadata": {
        "id": "uZxY5absvKoQ"
      },
      "execution_count": null,
      "outputs": []
    },
    {
      "cell_type": "code",
      "source": [
        "#int型同士の割り算\n",
        "num = 1 / 1\n",
        "print(type(num))\n",
        "print(num)"
      ],
      "metadata": {
        "id": "nbcZ7h8v7dGH"
      },
      "execution_count": null,
      "outputs": []
    },
    {
      "cell_type": "markdown",
      "source": [
        "### 1.3.2. str型（文字列）"
      ],
      "metadata": {
        "id": "2UuVEtnU7OV4"
      }
    },
    {
      "cell_type": "markdown",
      "source": [
        "str型は、文字列を扱うデータ型です。str型は、変数へ代入時にシングルクオーテーション「''」、または、ダブルクォーテーション「\"\"」で囲むことでstr型となります。数値の足し算の演算子をstr型に適用すると文字列の結合となります。また、文字列の長さを調べるのにlen関数が利用できます。"
      ],
      "metadata": {
        "id": "X_JRU5DW-WWM"
      }
    },
    {
      "cell_type": "code",
      "source": [
        "#文字列の代入\n",
        "string = 'Python'\n",
        "print(type(string))\n",
        "print(string)"
      ],
      "metadata": {
        "id": "J-14BOd_8as1",
        "outputId": "54b155cc-1c4a-48cb-aad6-cb4fe9a758a2",
        "colab": {
          "base_uri": "https://localhost:8080/"
        }
      },
      "execution_count": 10,
      "outputs": [
        {
          "output_type": "stream",
          "name": "stdout",
          "text": [
            "<class 'str'>\n",
            "Python\n"
          ]
        }
      ]
    },
    {
      "cell_type": "code",
      "source": [
        "# 文字列の結合\n",
        "str1 = 'Hello'\n",
        "str2 = 'World'\n",
        "print(str1+\",\"+str2)  #カンマを間に入れる"
      ],
      "metadata": {
        "id": "L7HlrwErSrZB",
        "outputId": "0080c0d0-66c4-4086-ce1c-88520fb8a782",
        "colab": {
          "base_uri": "https://localhost:8080/"
        }
      },
      "execution_count": 11,
      "outputs": [
        {
          "output_type": "stream",
          "name": "stdout",
          "text": [
            "Hello,World\n"
          ]
        }
      ]
    },
    {
      "cell_type": "code",
      "source": [
        "# 文字列の長さ\n",
        "string = 'Python'\n",
        "print(len(string))"
      ],
      "metadata": {
        "id": "o3fEs9IlSrOF",
        "outputId": "b010c4f9-7e56-4a64-d775-781f34d2d59a",
        "colab": {
          "base_uri": "https://localhost:8080/"
        }
      },
      "execution_count": 12,
      "outputs": [
        {
          "output_type": "stream",
          "name": "stdout",
          "text": [
            "6\n"
          ]
        }
      ]
    },
    {
      "cell_type": "code",
      "source": [
        "# 繰り返し\n",
        "text = \"Hello \"\n",
        "repeated = text * 3\n",
        "print(repeated)"
      ],
      "metadata": {
        "id": "3sMEf2PgT1cR",
        "outputId": "c9835f9a-cb5e-44ed-b017-7be34c4b17c5",
        "colab": {
          "base_uri": "https://localhost:8080/"
        }
      },
      "execution_count": 13,
      "outputs": [
        {
          "output_type": "stream",
          "name": "stdout",
          "text": [
            "Hello Hello Hello \n"
          ]
        }
      ]
    },
    {
      "cell_type": "code",
      "source": [
        "# 最初の文字を取り出す\n",
        "text = \"Apple\"\n",
        "part = text[0]  # 0番目\n",
        "print(part)"
      ],
      "metadata": {
        "id": "QNJHAL9wTIak",
        "outputId": "6ee7f2f5-5960-4793-9e8e-72d32162459c",
        "colab": {
          "base_uri": "https://localhost:8080/"
        }
      },
      "execution_count": 14,
      "outputs": [
        {
          "output_type": "stream",
          "name": "stdout",
          "text": [
            "A\n"
          ]
        }
      ]
    },
    {
      "cell_type": "markdown",
      "source": [
        "| 文字列の要素 | A | p | p | l | e |\n",
        "|--------------|---|---|---|---|---|\n",
        "| インデックス | 0 | 1 | 2 | 3 | 4 |"
      ],
      "metadata": {
        "id": "4-UYw0m16Whd"
      }
    },
    {
      "cell_type": "code",
      "source": [
        "# 最後の文字を取り出す\n",
        "text = \"Apple\"\n",
        "part = text[-5]  # インデックスを-5にする\n",
        "print(part)"
      ],
      "metadata": {
        "id": "OJpY9qMLTLxb",
        "outputId": "88c3d31b-bdf0-41db-bbe1-1120d7dd49a6",
        "colab": {
          "base_uri": "https://localhost:8080/"
        }
      },
      "execution_count": 15,
      "outputs": [
        {
          "output_type": "stream",
          "name": "stdout",
          "text": [
            "A\n"
          ]
        }
      ]
    },
    {
      "cell_type": "markdown",
      "source": [
        "| 文字列の要素 | A | p | p | l | e |\n",
        "|--------------|---|---|---|---|---|\n",
        "| インデックス | -5 | -4 | -3 | -2 | -1 |"
      ],
      "metadata": {
        "id": "qsJH1xGM6tEm"
      }
    },
    {
      "cell_type": "code",
      "source": [
        "# 文字列の部分取り出し\n",
        "text = \"Apple\"\n",
        "part = text[0:3]  # 0番目から2番目まで（3,4番目は含まれない）\n",
        "print(part)"
      ],
      "metadata": {
        "id": "Oemc0B4YTCT9"
      },
      "execution_count": null,
      "outputs": []
    },
    {
      "cell_type": "markdown",
      "source": [
        "| 文字列の要素 | *A* | *p* | *p* | l | e |\n",
        "|--------------|---|---|---|---|---|\n",
        "| インデックス | *0* | *1* | *2* | 3 | 4 |"
      ],
      "metadata": {
        "id": "2Zz7Ne487BH9"
      }
    },
    {
      "cell_type": "code",
      "source": [
        "# f文字列\n",
        "name = \"Matsuo\"\n",
        "age = 25\n",
        "message = f\"My name is {name} and I am {age} years old.\"   # {}で囲った変数を埋め込むことができる\n",
        "print(message)"
      ],
      "metadata": {
        "id": "uOLSm9BJfLWP",
        "outputId": "c981380a-aaab-403c-bfcb-9d998dcc8b74",
        "colab": {
          "base_uri": "https://localhost:8080/"
        }
      },
      "execution_count": 16,
      "outputs": [
        {
          "output_type": "stream",
          "name": "stdout",
          "text": [
            "My name is Matsuo and I am 25 years old.\n"
          ]
        }
      ]
    },
    {
      "cell_type": "markdown",
      "source": [
        "### 1.3.3. bool型\n",
        "\n",
        "bool型には、TrueとFalseの2つがあり、真偽値と言います。bool型は「はい」と「いいえ」のような2値で条件確認に利用できます。"
      ],
      "metadata": {
        "id": "y3qGpLdg8Zap"
      }
    },
    {
      "cell_type": "code",
      "source": [
        "yes = True\n",
        "print(type(yes))\n",
        "\n",
        "no = False\n",
        "print(type(no))"
      ],
      "metadata": {
        "id": "5UqSloLD8euf",
        "outputId": "41963fa9-5d40-4ce1-c07c-436106f8f3da",
        "colab": {
          "base_uri": "https://localhost:8080/"
        }
      },
      "execution_count": 17,
      "outputs": [
        {
          "output_type": "stream",
          "name": "stdout",
          "text": [
            "<class 'bool'>\n",
            "<class 'bool'>\n"
          ]
        }
      ]
    },
    {
      "cell_type": "markdown",
      "source": [
        "### 1.3.4. 型変換\n",
        "\n",
        "変数に代入した値のデータ型を変えることを**型変換**と言います。int型への型変換はint関数が用意されています。そのほかにもfloat関数やstr関数、bool関数などがあります。\n",
        "\n",
        "float関数にint型を入力すると整数部のみが出力されます。また、'abc'などの文字をintやfloat関数に入力するとエラーとなるため注意が必要です。"
      ],
      "metadata": {
        "id": "S0Vn0M7e7qt5"
      }
    },
    {
      "cell_type": "code",
      "source": [
        "# str型\n",
        "x = '3.14'  # 数値でなく文字列\n",
        "print(x)\n",
        "print(type(x))"
      ],
      "metadata": {
        "id": "wFVwyabEi-Cl",
        "outputId": "6736bc00-6150-4f2d-f7bf-f0e1d9f4ff85",
        "colab": {
          "base_uri": "https://localhost:8080/"
        }
      },
      "execution_count": 18,
      "outputs": [
        {
          "output_type": "stream",
          "name": "stdout",
          "text": [
            "3.14\n",
            "<class 'str'>\n"
          ]
        }
      ]
    },
    {
      "cell_type": "code",
      "source": [
        "# str型->float型への型変換\n",
        "y = float(x)\n",
        "print(y)\n",
        "print(type(y))"
      ],
      "metadata": {
        "id": "CeY6x4Qzy6R9",
        "outputId": "f533c5fd-0e69-4314-e3da-86507685c0a1",
        "colab": {
          "base_uri": "https://localhost:8080/"
        }
      },
      "execution_count": 19,
      "outputs": [
        {
          "output_type": "stream",
          "name": "stdout",
          "text": [
            "3.14\n",
            "<class 'float'>\n"
          ]
        }
      ]
    },
    {
      "cell_type": "code",
      "source": [
        "# float型->int型への型変換\n",
        "z = int(y)\n",
        "print(z)\n",
        "print(type(z))"
      ],
      "metadata": {
        "id": "yOkr59Mjy6qA",
        "outputId": "3abfb1f6-77f2-4008-b2bb-9fd2ca031685",
        "colab": {
          "base_uri": "https://localhost:8080/"
        }
      },
      "execution_count": 20,
      "outputs": [
        {
          "output_type": "stream",
          "name": "stdout",
          "text": [
            "3\n",
            "<class 'int'>\n"
          ]
        }
      ]
    },
    {
      "cell_type": "markdown",
      "source": [
        "応用的な利用方法にbool型の数値への変換があります。TrueとFalseを数値に変換するとそれぞれ1と0になり、逆に0と0以外の数値をbool型に変換するとそれぞれFalseとTrueとなります。"
      ],
      "metadata": {
        "id": "RCMugELwkTYS"
      }
    },
    {
      "cell_type": "code",
      "source": [
        "# boolからintへの変換\n",
        "# True  ->  int()   -> 1\n",
        "x = True\n",
        "print(int(x))"
      ],
      "metadata": {
        "id": "IVKl-kjwkWZo",
        "outputId": "277d5464-d3fe-4c6a-b9ef-b29b8311aac5",
        "colab": {
          "base_uri": "https://localhost:8080/"
        }
      },
      "execution_count": 21,
      "outputs": [
        {
          "output_type": "stream",
          "name": "stdout",
          "text": [
            "1\n"
          ]
        }
      ]
    },
    {
      "cell_type": "code",
      "source": [
        "# boolからintへの変換\n",
        "# False ->  int()   -> 0\n",
        "x = False\n",
        "print(int(x))"
      ],
      "metadata": {
        "id": "bzxJeo3qzt0o",
        "outputId": "7b59d634-bce0-46f1-da98-cf9220b584ab",
        "colab": {
          "base_uri": "https://localhost:8080/"
        }
      },
      "execution_count": 22,
      "outputs": [
        {
          "output_type": "stream",
          "name": "stdout",
          "text": [
            "0\n"
          ]
        }
      ]
    },
    {
      "cell_type": "code",
      "source": [
        "# intからboolへの変換\n",
        "# 2 ->  bool()  -> True\n",
        "print(bool(2))"
      ],
      "metadata": {
        "id": "PH5jNKJnzuke",
        "outputId": "fe4b6bd7-8523-4185-fc00-3c1d4b0287c9",
        "colab": {
          "base_uri": "https://localhost:8080/"
        }
      },
      "execution_count": 23,
      "outputs": [
        {
          "output_type": "stream",
          "name": "stdout",
          "text": [
            "True\n"
          ]
        }
      ]
    },
    {
      "cell_type": "code",
      "source": [
        "# intからboolへの変換\n",
        "# 0.0 ->  bool()  -> False\n",
        "print(bool(0.0))"
      ],
      "metadata": {
        "id": "RGgNzzSyzuVm",
        "outputId": "21f71959-37c2-462f-ee5f-1532fbbf2ecc",
        "colab": {
          "base_uri": "https://localhost:8080/"
        }
      },
      "execution_count": 24,
      "outputs": [
        {
          "output_type": "stream",
          "name": "stdout",
          "text": [
            "False\n"
          ]
        }
      ]
    },
    {
      "cell_type": "code",
      "source": [
        "# 変数numは、奇数か（2で割り切れない）か？　->　Trueなら奇数、Falseなら偶数。\n",
        "x = 5\n",
        "is_odd = bool(x % 2) #余りが０でないので、boolに変換するとTrue\n",
        "print(is_odd)"
      ],
      "metadata": {
        "id": "HPMoSpTYkdIk",
        "outputId": "952e6e67-3ef9-41e8-fd3b-afb4eda30a90",
        "colab": {
          "base_uri": "https://localhost:8080/"
        }
      },
      "execution_count": 25,
      "outputs": [
        {
          "output_type": "stream",
          "name": "stdout",
          "text": [
            "True\n"
          ]
        }
      ]
    },
    {
      "cell_type": "markdown",
      "source": [
        "## 1.4 練習問題"
      ],
      "metadata": {
        "id": "cs0ZJFp8SpAi"
      }
    },
    {
      "cell_type": "markdown",
      "source": [],
      "metadata": {
        "id": "nJ8TlrOKTzzE"
      }
    },
    {
      "cell_type": "markdown",
      "source": [
        "(1-1) 好きな文字列を出力するプログラムを書いてください。\n",
        "\n"
      ],
      "metadata": {
        "id": "ffpMfZRwTeBK"
      }
    },
    {
      "cell_type": "code",
      "source": [
        "word = \"Hello\"\n",
        "print(word)"
      ],
      "metadata": {
        "id": "FA8VSmAiT6VT",
        "outputId": "f0aba8a5-521c-4593-f416-94e34b1b697c",
        "colab": {
          "base_uri": "https://localhost:8080/"
        }
      },
      "execution_count": 26,
      "outputs": [
        {
          "output_type": "stream",
          "name": "stdout",
          "text": [
            "Hello\n"
          ]
        }
      ]
    },
    {
      "cell_type": "markdown",
      "source": [
        "例: x=\"こんにちは\"、y = \"松尾さん\"のときにx+yをprintする"
      ],
      "metadata": {
        "id": "0FvVJgTYEfOk"
      }
    },
    {
      "cell_type": "code",
      "source": [
        "x = \"こんにちは\"\n",
        "y = \"松尾さん\"\n",
        "print(x + y)"
      ],
      "metadata": {
        "id": "AWSwY05XExmH",
        "outputId": "3571d8e1-18d5-4d3d-fa9d-c368867d7cd5",
        "colab": {
          "base_uri": "https://localhost:8080/"
        }
      },
      "execution_count": 27,
      "outputs": [
        {
          "output_type": "stream",
          "name": "stdout",
          "text": [
            "こんにちは松尾さん\n"
          ]
        }
      ]
    },
    {
      "cell_type": "markdown",
      "source": [
        "(1-2) 代数演算子(+, -, \\*, /, %、\\**, //)を使った好きな演算をするプログラムを，1つ以上書いてください。"
      ],
      "metadata": {
        "id": "FOxNdKusT3aI"
      }
    },
    {
      "cell_type": "code",
      "source": [
        "a = 5\n",
        "b = 3\n",
        "print(a + b)"
      ],
      "metadata": {
        "id": "ggnbeXo6T68z",
        "outputId": "e500710e-054d-42dc-98bc-ed68417d02bd",
        "colab": {
          "base_uri": "https://localhost:8080/"
        }
      },
      "execution_count": 28,
      "outputs": [
        {
          "output_type": "stream",
          "name": "stdout",
          "text": [
            "8\n"
          ]
        }
      ]
    },
    {
      "cell_type": "markdown",
      "source": [
        "例：x = 2000円のとき、消費税10%を合わせた税込み金額を計算する"
      ],
      "metadata": {
        "id": "DciJwR38FIXG"
      }
    },
    {
      "cell_type": "code",
      "source": [
        "x = 2000\n",
        "print(x*(1 + 10/100))"
      ],
      "metadata": {
        "id": "acrWay33FUad",
        "outputId": "c675e735-9e4a-42c8-fc36-104c2adab92b",
        "colab": {
          "base_uri": "https://localhost:8080/"
        }
      },
      "execution_count": 29,
      "outputs": [
        {
          "output_type": "stream",
          "name": "stdout",
          "text": [
            "2200.0\n"
          ]
        }
      ]
    },
    {
      "cell_type": "markdown",
      "source": [
        "(1-3) 変数`x`に整数が格納されているとします。`x`が偶数ならば0、奇数ならば1を表示(print)するプログラムを作成してください。"
      ],
      "metadata": {
        "id": "tR9ziuZ-SwnM"
      }
    },
    {
      "cell_type": "code",
      "source": [
        "# 入力例\n",
        "x = 100"
      ],
      "metadata": {
        "id": "9vUf_IyfWERM"
      },
      "execution_count": 33,
      "outputs": []
    },
    {
      "cell_type": "code",
      "source": [
        "# write me!\n",
        "print(x % 2)"
      ],
      "metadata": {
        "id": "xMbZryudWNHs",
        "outputId": "f425be7f-4b28-487f-c8d4-2bfebfced35a",
        "colab": {
          "base_uri": "https://localhost:8080/"
        }
      },
      "execution_count": 34,
      "outputs": [
        {
          "output_type": "stream",
          "name": "stdout",
          "text": [
            "0\n"
          ]
        }
      ]
    },
    {
      "cell_type": "markdown",
      "source": [
        "(1-4) 身長height、体重weightからBMIを計算するプログラムを作成してください。BMI = 体重(kg)/ 身長(m)の2乗"
      ],
      "metadata": {
        "id": "3-Wy5D9K0tkB"
      }
    },
    {
      "cell_type": "code",
      "source": [
        "# 入力例\n",
        "weight = 50 # kg\n",
        "height = 165 # cm\n",
        "\n",
        "bmi = weight/(height/100) ** 2\n",
        "print(bmi)"
      ],
      "metadata": {
        "id": "dNipaCgS1swK",
        "outputId": "d15c970a-1992-4d12-ab51-e8cae85ec36a",
        "colab": {
          "base_uri": "https://localhost:8080/"
        }
      },
      "execution_count": 36,
      "outputs": [
        {
          "output_type": "stream",
          "name": "stdout",
          "text": [
            "18.36547291092746\n"
          ]
        }
      ]
    },
    {
      "cell_type": "markdown",
      "source": [
        "# 補足事項：変数名の決め方"
      ],
      "metadata": {
        "id": "cf1Qx1S50Ffs"
      }
    },
    {
      "cell_type": "markdown",
      "source": [
        "変数名の決め方は自由ですが、基本的に英数字と_（アンダーバー）で構成するのが一般的です。aやbだけの文字にもできますが、意味のある文字列にする方が自身や他者にとっても変数の中身を理解しやすくなります。しかし、一部使用できない変数名があるので注意が必要です。例えば、変数名の最初には数値を使用できません。また、予約語と呼ばれるプログラムに事前に用意されている単語（例：class、if、forなど）は使用できません。変数名にできない例を以下に示します。下記のような変数名で実行するとエラーとなります。"
      ],
      "metadata": {
        "id": "RfQppwlRsE4k"
      }
    },
    {
      "cell_type": "code",
      "source": [
        "'''\n",
        "※変数名にできない例※\n",
        "'''\n",
        "# 変数名の頭文字が数値\n",
        "2024_data = 1000"
      ],
      "metadata": {
        "id": "I11omZxR1hmZ",
        "outputId": "022424d9-8eb2-4d62-a5cc-6e6791f9ed89",
        "colab": {
          "base_uri": "https://localhost:8080/",
          "height": 106
        }
      },
      "execution_count": 37,
      "outputs": [
        {
          "output_type": "error",
          "ename": "SyntaxError",
          "evalue": "invalid decimal literal (<ipython-input-37-d391081b03f1>, line 5)",
          "traceback": [
            "\u001b[0;36m  File \u001b[0;32m\"<ipython-input-37-d391081b03f1>\"\u001b[0;36m, line \u001b[0;32m5\u001b[0m\n\u001b[0;31m    2024_data = 1000\u001b[0m\n\u001b[0m        ^\u001b[0m\n\u001b[0;31mSyntaxError\u001b[0m\u001b[0;31m:\u001b[0m invalid decimal literal\n"
          ]
        }
      ]
    },
    {
      "cell_type": "code",
      "source": [
        "# 変数名に予約語を使用\n",
        "class = 'A'"
      ],
      "metadata": {
        "id": "yY8Ck6em1p66"
      },
      "execution_count": null,
      "outputs": []
    },
    {
      "cell_type": "markdown",
      "source": [
        "なお、予約語は次のコードを実行すると確認できます。"
      ],
      "metadata": {
        "id": "ufAKZ65fztW2"
      }
    },
    {
      "cell_type": "code",
      "source": [
        "import keyword\n",
        "print(keyword.kwlist)"
      ],
      "metadata": {
        "id": "FF4cbyILu2gn",
        "outputId": "25980467-6108-402d-e4d9-126942e6b289",
        "colab": {
          "base_uri": "https://localhost:8080/"
        }
      },
      "execution_count": 38,
      "outputs": [
        {
          "output_type": "stream",
          "name": "stdout",
          "text": [
            "['False', 'None', 'True', 'and', 'as', 'assert', 'async', 'await', 'break', 'class', 'continue', 'def', 'del', 'elif', 'else', 'except', 'finally', 'for', 'from', 'global', 'if', 'import', 'in', 'is', 'lambda', 'nonlocal', 'not', 'or', 'pass', 'raise', 'return', 'try', 'while', 'with', 'yield']\n"
          ]
        }
      ]
    },
    {
      "cell_type": "markdown",
      "source": [
        "# 2.Python文法II\n",
        "関連解説動画：https://www.youtube.com/playlist?list=PLT07SIG9QbZy4JDwxeRtLyfajJetCuhBi\n"
      ],
      "metadata": {
        "id": "MT-LXQVuiqk2"
      }
    },
    {
      "cell_type": "markdown",
      "source": [
        "## 2.1. コレクション\n"
      ],
      "metadata": {
        "id": "if3SR428FJHD"
      }
    },
    {
      "cell_type": "markdown",
      "source": [
        "これまでの変数では、変数名と値を1対1で定義しました。一方、Pythonには1つの変数に**値をまとめて管理できるコレクション**と呼ばれるものが用意されています。コレクションには値を順番に管理するリストやタプル、キーワードで管理する辞書などがあります。"
      ],
      "metadata": {
        "id": "8KCiPq4WFWRU"
      }
    },
    {
      "cell_type": "markdown",
      "source": [
        "## 2.2. リスト\n"
      ],
      "metadata": {
        "id": "3WkHajCZGgM-"
      }
    },
    {
      "cell_type": "markdown",
      "source": [
        "**リストは、値を順番に管理できる**データ型です。角かっこ[ ]を使って値をカンマ(，)で挟んで並べることで変数に代入できます。要素には文字列や数値などのデータ型も利用できます。"
      ],
      "metadata": {
        "id": "hrQ9NBUBEO63"
      }
    },
    {
      "cell_type": "code",
      "source": [
        "#文字列リストの代入\n",
        "menu = ['salad', 'soup', 'steak', 'cake']"
      ],
      "metadata": {
        "id": "vigZZu7IINKd"
      },
      "execution_count": 39,
      "outputs": []
    },
    {
      "cell_type": "markdown",
      "source": [
        "リストの各**値を要素**、要素の**順番をインデックス**と呼びます。インデックスは、最初の要素番号を0とし、順に1,2,3と増えます。最後の要素番号から数えることもでき、-1, -2, -3と最初の要素まで数えます。リストの変数名の後ろの角かっこに**インデックスを指定して要素の抽出や置換**が可能です。"
      ],
      "metadata": {
        "id": "5MjcOlQRIiU-"
      }
    },
    {
      "cell_type": "code",
      "source": [
        "#リストの2番目の要素の抽出\n",
        "print(menu[1])"
      ],
      "metadata": {
        "id": "1BiJTwpWIGcv",
        "outputId": "d07ad370-d08e-4f14-e708-b36bd445274e",
        "colab": {
          "base_uri": "https://localhost:8080/"
        }
      },
      "execution_count": 40,
      "outputs": [
        {
          "output_type": "stream",
          "name": "stdout",
          "text": [
            "soup\n"
          ]
        }
      ]
    },
    {
      "cell_type": "code",
      "source": [
        "#リストの最後の要素を置換\n",
        "menu[-1] = 'pudding'\n",
        "print(menu)"
      ],
      "metadata": {
        "id": "WvK1WmgNtnY_",
        "outputId": "df71e3a3-59f8-4777-86dd-6328987c9348",
        "colab": {
          "base_uri": "https://localhost:8080/"
        }
      },
      "execution_count": 41,
      "outputs": [
        {
          "output_type": "stream",
          "name": "stdout",
          "text": [
            "['salad', 'soup', 'steak', 'pudding']\n"
          ]
        }
      ]
    },
    {
      "cell_type": "markdown",
      "source": [
        "リストからインデックスの範囲を指定して**リストの切り出し（スライス）**が可能です。要素の抽出のようにリストの変数名のうしろに角かっこを使い、コロン（：）の左側に始点となるインデックス、右側に終点となるインデックスを記入します。この際、始点はスライス内に含まれますが、終点は含まれません。例えば、スライス表記の[x:y]はx以上y未満を表します。xやyを省略した場合は残る範囲まで選択されます。\n",
        "\n"
      ],
      "metadata": {
        "id": "h10cLiMGLA5H"
      }
    },
    {
      "cell_type": "code",
      "source": [
        "#数値リストの代入\n",
        "numbers = [10,20,30,40,50]"
      ],
      "metadata": {
        "id": "61EdSX84FFDT"
      },
      "execution_count": 42,
      "outputs": []
    },
    {
      "cell_type": "markdown",
      "source": [
        "| リストの要素 | 10 | 20 | 30 | 40 | 50 |\n",
        "|--------------|---|---|---|---|---|\n",
        "| インデックス | 0 | 1 | 2 | 3 | 4 |"
      ],
      "metadata": {
        "id": "lNg-6zboJfJ9"
      }
    },
    {
      "cell_type": "code",
      "source": [
        "#スライス表記の例\n",
        "print(numbers[0:2])"
      ],
      "metadata": {
        "id": "li5so6GZJnhl",
        "outputId": "a17bea72-9735-46ba-fd2a-422da2346cfd",
        "colab": {
          "base_uri": "https://localhost:8080/"
        }
      },
      "execution_count": 43,
      "outputs": [
        {
          "output_type": "stream",
          "name": "stdout",
          "text": [
            "[10, 20]\n"
          ]
        }
      ]
    },
    {
      "cell_type": "code",
      "source": [
        "#始点と終点を指定したスライス\n",
        "print(numbers[1:3])"
      ],
      "metadata": {
        "id": "DIJhKWkuIILV",
        "outputId": "9aa340c3-b591-4245-8f9c-28d1d2492e15",
        "colab": {
          "base_uri": "https://localhost:8080/"
        }
      },
      "execution_count": 44,
      "outputs": [
        {
          "output_type": "stream",
          "name": "stdout",
          "text": [
            "[20, 30]\n"
          ]
        }
      ]
    },
    {
      "cell_type": "code",
      "source": [
        "#終点だけ指定したスライス\n",
        "print(numbers[:-1])"
      ],
      "metadata": {
        "id": "y8ro6-GjIIEg",
        "outputId": "136d055a-d6ce-4a29-b863-13e29eb79f09",
        "colab": {
          "base_uri": "https://localhost:8080/"
        }
      },
      "execution_count": 46,
      "outputs": [
        {
          "output_type": "stream",
          "name": "stdout",
          "text": [
            "[10, 20, 30, 40]\n"
          ]
        }
      ]
    },
    {
      "cell_type": "code",
      "source": [
        "#インデックスを指定しないスライス（全ての要素）\n",
        "print(numbers[:])"
      ],
      "metadata": {
        "id": "FGTEMq3xIIBo",
        "outputId": "192ac56d-2885-4258-9863-2aabb1e9e0a9",
        "colab": {
          "base_uri": "https://localhost:8080/"
        }
      },
      "execution_count": 45,
      "outputs": [
        {
          "output_type": "stream",
          "name": "stdout",
          "text": [
            "[10, 20, 30, 40, 50]\n"
          ]
        }
      ]
    },
    {
      "cell_type": "markdown",
      "source": [
        "リストを変数名に代入した後に、リストの要素の追加や削除をしたい場合、リストの変数名の後ろに.(ドット）を付けてそれぞれ**append(末尾追加要素)**や**remove(削除要素)**を使います。なお、removeで削除される要素がリスト内に重複する場合、該当する最初の要素が削除されます。"
      ],
      "metadata": {
        "id": "XesLEJthNqh4"
      }
    },
    {
      "cell_type": "code",
      "source": [
        "#リストの代入\n",
        "menu = ['salad', 'soup', 'steak', 'cake']"
      ],
      "metadata": {
        "id": "zBy25_cnE11Y"
      },
      "execution_count": 47,
      "outputs": []
    },
    {
      "cell_type": "code",
      "source": [
        "#要素の追加\n",
        "menu.append('pudding')\n",
        "print(menu)"
      ],
      "metadata": {
        "id": "A1DXHqm6tyf-",
        "outputId": "d9acbdbd-3ca1-436d-93c5-9bece40963ff",
        "colab": {
          "base_uri": "https://localhost:8080/"
        }
      },
      "execution_count": 48,
      "outputs": [
        {
          "output_type": "stream",
          "name": "stdout",
          "text": [
            "['salad', 'soup', 'steak', 'cake', 'pudding']\n"
          ]
        }
      ]
    },
    {
      "cell_type": "code",
      "source": [
        "#要素の削除\n",
        "menu.remove('soup')\n",
        "print(menu)"
      ],
      "metadata": {
        "id": "n1-C8Lp6t0cI",
        "outputId": "1a5fa6d0-a8ba-4920-cf27-601d0890f4dd",
        "colab": {
          "base_uri": "https://localhost:8080/"
        }
      },
      "execution_count": 49,
      "outputs": [
        {
          "output_type": "stream",
          "name": "stdout",
          "text": [
            "['salad', 'steak', 'cake', 'pudding']\n"
          ]
        }
      ]
    },
    {
      "cell_type": "markdown",
      "source": [
        "Pythonでは、リストの数値計算に便利な関数が用意されています。Pythonに用意されている関数では関数名の後ろのかっこに値を入れて計算できます。len()のlenは、length（長さ）の略であり、他のデータ型でもよく用います。\n"
      ],
      "metadata": {
        "id": "cOGj9UaaQCxX"
      }
    },
    {
      "cell_type": "code",
      "source": [
        "#数値リストの代入\n",
        "score = [40, 60, 80]"
      ],
      "metadata": {
        "id": "S8r-QKeYQCXF"
      },
      "execution_count": 50,
      "outputs": []
    },
    {
      "cell_type": "code",
      "source": [
        "#数値リストの要素数を出力\n",
        "print(len(score))"
      ],
      "metadata": {
        "id": "98JqjKRaNw0r",
        "outputId": "24b95c48-674d-4c4d-9819-dd293a06e88b",
        "colab": {
          "base_uri": "https://localhost:8080/"
        }
      },
      "execution_count": 51,
      "outputs": [
        {
          "output_type": "stream",
          "name": "stdout",
          "text": [
            "3\n"
          ]
        }
      ]
    },
    {
      "cell_type": "code",
      "source": [
        "#数値リストの合計値を出力\n",
        "print(sum(score))"
      ],
      "metadata": {
        "id": "Ktuj-S2DNvfH",
        "outputId": "85b50a6d-80de-44dc-b1c7-601c058a771b",
        "colab": {
          "base_uri": "https://localhost:8080/"
        }
      },
      "execution_count": 52,
      "outputs": [
        {
          "output_type": "stream",
          "name": "stdout",
          "text": [
            "180\n"
          ]
        }
      ]
    },
    {
      "cell_type": "code",
      "source": [
        "#数値リストの平均値を出力\n",
        "print(sum(score)/len(score))"
      ],
      "metadata": {
        "id": "6F--2Fo2NvTK",
        "outputId": "01b80f33-71b0-49c7-e921-0698c571a232",
        "colab": {
          "base_uri": "https://localhost:8080/"
        }
      },
      "execution_count": 53,
      "outputs": [
        {
          "output_type": "stream",
          "name": "stdout",
          "text": [
            "60.0\n"
          ]
        }
      ]
    },
    {
      "cell_type": "code",
      "source": [
        "#数値リストの最大値を出力\n",
        "print(max(score))"
      ],
      "metadata": {
        "id": "rgyNdt_LNvIf",
        "outputId": "cb3ea03e-0027-4ba9-b059-6fe93212bbcb",
        "colab": {
          "base_uri": "https://localhost:8080/"
        }
      },
      "execution_count": 54,
      "outputs": [
        {
          "output_type": "stream",
          "name": "stdout",
          "text": [
            "80\n"
          ]
        }
      ]
    },
    {
      "cell_type": "code",
      "source": [
        "#数値リストの最小値を出力\n",
        "print(min(score))"
      ],
      "metadata": {
        "id": "pPoDxmDn0Byn",
        "outputId": "10af3444-8182-4a50-803a-559ebe065348",
        "colab": {
          "base_uri": "https://localhost:8080/"
        }
      },
      "execution_count": 55,
      "outputs": [
        {
          "output_type": "stream",
          "name": "stdout",
          "text": [
            "40\n"
          ]
        }
      ]
    },
    {
      "cell_type": "markdown",
      "source": [
        "リストは、2重の角かっこを使って2次元の表データも管理できます。行や列番号を指定して要素やリストを抽出できます。なお、3つ以上の多次元のリストも作成可能です。\n"
      ],
      "metadata": {
        "id": "cQPlIVtMRyDl"
      }
    },
    {
      "cell_type": "code",
      "execution_count": 56,
      "metadata": {
        "id": "oIigoywLClp8"
      },
      "outputs": [],
      "source": [
        "#2次元リストの代入\n",
        "table = [['24/3', '24/4', '24/5'], [80, 100, 90]]"
      ]
    },
    {
      "cell_type": "markdown",
      "source": [
        "| 日付   | 24/3 | 24/4 | 24/5 |\n",
        "|--------|------|------|------|\n",
        "| 点数   | 80   | 100  | 90   |"
      ],
      "metadata": {
        "id": "bmiKMUPLuwBw"
      }
    },
    {
      "cell_type": "code",
      "source": [
        "#0行2列の要素を抽出\n",
        "print(table[0][2])"
      ],
      "metadata": {
        "id": "Cf6DdMEpupag",
        "outputId": "a3e53461-52f2-41d4-c355-507372f7d677",
        "colab": {
          "base_uri": "https://localhost:8080/"
        }
      },
      "execution_count": 57,
      "outputs": [
        {
          "output_type": "stream",
          "name": "stdout",
          "text": [
            "24/5\n"
          ]
        }
      ]
    },
    {
      "cell_type": "code",
      "source": [
        "#1行2列の要素を抽出\n",
        "print(table[1][1])"
      ],
      "metadata": {
        "id": "Si-vuCdyupNc",
        "outputId": "35ac4836-0731-4b6e-ee08-ba3886b6e4e2",
        "colab": {
          "base_uri": "https://localhost:8080/"
        }
      },
      "execution_count": 58,
      "outputs": [
        {
          "output_type": "stream",
          "name": "stdout",
          "text": [
            "100\n"
          ]
        }
      ]
    },
    {
      "cell_type": "markdown",
      "metadata": {
        "id": "PrRSCZ8pQ-YU"
      },
      "source": [
        "## 2.3.tuple型(タプル)"
      ]
    },
    {
      "cell_type": "markdown",
      "metadata": {
        "id": "y5ElLedjQ-YU"
      },
      "source": [
        "タプルもリスト同様複数の要素を集めたもので、他のプログラミング言語では**組**と呼ばれています。\n",
        "\n",
        "Pythonでは`(要素, 要素, ...)`という形式でデータを保持します。\n",
        "\n",
        "\n"
      ]
    },
    {
      "cell_type": "code",
      "execution_count": 59,
      "metadata": {
        "id": "Joe1d6SQQ-YU",
        "outputId": "39d4a8e0-45ed-4736-bacf-58b43afe8540",
        "colab": {
          "base_uri": "https://localhost:8080/"
        }
      },
      "outputs": [
        {
          "output_type": "stream",
          "name": "stdout",
          "text": [
            "(1, 2, 3)\n"
          ]
        }
      ],
      "source": [
        "# タプル\n",
        "x = (1, 2, 3)\n",
        "print(x)"
      ]
    },
    {
      "cell_type": "markdown",
      "metadata": {
        "id": "m92-pjaAQ-YU"
      },
      "source": [
        "リストが**同じ種類のデータをまとめる**のに対して、タプルは**異なる種類のデータをまとめる**ことが多いです。データの構造が似ているため、リストと同じような操作を行うことができますが、微妙に異なる部分もあります。以下ではリストとの共通点と相違点を比較しながらタプルを学んでいきます。"
      ]
    },
    {
      "cell_type": "markdown",
      "metadata": {
        "id": "sSwAGJX8Q-YV"
      },
      "source": [
        "タプルではリスト同様に、インデックスを用いて要素にアクセスすることができます。\n",
        "\n",
        "| タプルの要素 | 1 | 2.0 | '3' |\n",
        "|--------------|---|---|---|\n",
        "| インデックス | 0 | 1 | 2 |"
      ]
    },
    {
      "cell_type": "code",
      "execution_count": 60,
      "metadata": {
        "id": "kfA4FaxwQ-YV",
        "outputId": "098fd992-1429-48d5-9172-20420206d103",
        "colab": {
          "base_uri": "https://localhost:8080/"
        }
      },
      "outputs": [
        {
          "output_type": "stream",
          "name": "stdout",
          "text": [
            "1\n"
          ]
        }
      ],
      "source": [
        "# 要素の参照\n",
        "x = (1, 2.0, '3')\n",
        "print(x[0])"
      ]
    },
    {
      "cell_type": "code",
      "execution_count": 61,
      "metadata": {
        "id": "IMwgD7fSQ-YV",
        "outputId": "eddc58ea-d273-4ada-c694-3caaa080a58c",
        "colab": {
          "base_uri": "https://localhost:8080/"
        }
      },
      "outputs": [
        {
          "output_type": "stream",
          "name": "stdout",
          "text": [
            "(1, 2.0)\n"
          ]
        }
      ],
      "source": [
        "# スライス(参照)\n",
        "x = (1, 2.0, '3')\n",
        "print(x[0:2])"
      ]
    },
    {
      "cell_type": "markdown",
      "metadata": {
        "id": "Qsfi87D5Q-YV"
      },
      "source": [
        "しかし、タプルに要素を代入することはできません。リストとは異なり、一度定義すると、要素を追加したり削除したりするなどの内容の変更が認められていません。リストは変更可能である(**mutable**である)のに対し、タプルは変更不能である(**immutable**である)ことに注意しましょう。"
      ]
    },
    {
      "cell_type": "code",
      "source": [
        "x = (1, 2.0, '3')\n",
        "x[1] = 3.0"
      ],
      "metadata": {
        "id": "UpJ9KJczB6Pk",
        "outputId": "2a4cdf41-0a70-4a6f-8117-06634596ca13",
        "colab": {
          "base_uri": "https://localhost:8080/",
          "height": 158
        }
      },
      "execution_count": 62,
      "outputs": [
        {
          "output_type": "error",
          "ename": "TypeError",
          "evalue": "'tuple' object does not support item assignment",
          "traceback": [
            "\u001b[0;31m---------------------------------------------------------------------------\u001b[0m",
            "\u001b[0;31mTypeError\u001b[0m                                 Traceback (most recent call last)",
            "\u001b[0;32m<ipython-input-62-1b34f2a36430>\u001b[0m in \u001b[0;36m<cell line: 2>\u001b[0;34m()\u001b[0m\n\u001b[1;32m      1\u001b[0m \u001b[0mx\u001b[0m \u001b[0;34m=\u001b[0m \u001b[0;34m(\u001b[0m\u001b[0;36m1\u001b[0m\u001b[0;34m,\u001b[0m \u001b[0;36m2.0\u001b[0m\u001b[0;34m,\u001b[0m \u001b[0;34m'3'\u001b[0m\u001b[0;34m)\u001b[0m\u001b[0;34m\u001b[0m\u001b[0;34m\u001b[0m\u001b[0m\n\u001b[0;32m----> 2\u001b[0;31m \u001b[0mx\u001b[0m\u001b[0;34m[\u001b[0m\u001b[0;36m1\u001b[0m\u001b[0;34m]\u001b[0m \u001b[0;34m=\u001b[0m \u001b[0;36m3.0\u001b[0m\u001b[0;34m\u001b[0m\u001b[0;34m\u001b[0m\u001b[0m\n\u001b[0m",
            "\u001b[0;31mTypeError\u001b[0m: 'tuple' object does not support item assignment"
          ]
        }
      ]
    },
    {
      "cell_type": "markdown",
      "metadata": {
        "id": "eS04vn8XQ-YV"
      },
      "source": [
        "実はタプルを生成するのに丸括弧を省略することができます。よって下の2つの例は同じコードとみなすことができます。"
      ]
    },
    {
      "cell_type": "code",
      "execution_count": 63,
      "metadata": {
        "id": "Thd1ZVCvQ-YV",
        "outputId": "4617cf74-aea7-4ed5-ee5b-60851daa8483",
        "colab": {
          "base_uri": "https://localhost:8080/"
        }
      },
      "outputs": [
        {
          "output_type": "stream",
          "name": "stdout",
          "text": [
            "(1, 2.0, '3')\n"
          ]
        }
      ],
      "source": [
        "# 例1 丸括弧を使う例\n",
        "x = (1, 2.0, '3')\n",
        "print(x)"
      ]
    },
    {
      "cell_type": "code",
      "execution_count": 64,
      "metadata": {
        "id": "i4F3wdS-Q-YV",
        "outputId": "5a4fa7bd-cc56-4339-ff22-9b8130ecaad1",
        "colab": {
          "base_uri": "https://localhost:8080/"
        }
      },
      "outputs": [
        {
          "output_type": "stream",
          "name": "stdout",
          "text": [
            "(1, 2.0, '3')\n"
          ]
        }
      ],
      "source": [
        "# 例2 丸括弧を省略\n",
        "x = 1, 2.0, '3'\n",
        "print(x)"
      ]
    },
    {
      "cell_type": "markdown",
      "metadata": {
        "id": "rAKhwjTuQ-YV"
      },
      "source": [
        "例2は複数の値を一つの変数にそれぞれ代入していると考えることもできます。これを**多重代入**と言います。関連する用語に**パック**や**アンパック**というものがありますが、ここでは用語の紹介に留めておきます。より発展的な内容を学びたい人は調べてみると良いでしょう。"
      ]
    },
    {
      "cell_type": "markdown",
      "metadata": {
        "id": "sYl--hUwQ-YV"
      },
      "source": [
        "## 2.3.dict型(辞書)"
      ]
    },
    {
      "cell_type": "markdown",
      "metadata": {
        "id": "bLrvmhMSQ-YW"
      },
      "source": [
        "辞書はリストの各要素に**キー**と呼ばれるラベルをつけたもので、他のプログラミング言語では**連想配列**と呼ばれています。\n",
        "  \n",
        "Pythonでは`{<キー>: <値>, ...}`という形式でデータを保持します。"
      ]
    },
    {
      "cell_type": "code",
      "execution_count": 65,
      "metadata": {
        "id": "0bbEV3SUQ-YW",
        "outputId": "baf948fc-c357-4461-eb8f-996884bc670b",
        "colab": {
          "base_uri": "https://localhost:8080/"
        }
      },
      "outputs": [
        {
          "output_type": "stream",
          "name": "stdout",
          "text": [
            "{'a': 1, 'b': 2, 'c': 3}\n"
          ]
        }
      ],
      "source": [
        "# 辞書\n",
        "x = {'a': 1, 'b': 2, 'c': 3}\n",
        "print(x)"
      ]
    },
    {
      "cell_type": "markdown",
      "metadata": {
        "id": "7VykTOOzQ-YW"
      },
      "source": [
        "リストではインデックスによって各要素にアクセスしていたのに対し、辞書ではキーを使って値にアクセスします。リストと同様に、値の参照および代入を行うことができます。"
      ]
    },
    {
      "cell_type": "code",
      "execution_count": 66,
      "metadata": {
        "id": "8YPyLxOqQ-YW",
        "outputId": "42e186a7-a0bf-47cc-abf8-9992c1d34c99",
        "colab": {
          "base_uri": "https://localhost:8080/"
        }
      },
      "outputs": [
        {
          "output_type": "stream",
          "name": "stdout",
          "text": [
            "1\n"
          ]
        }
      ],
      "source": [
        "# 要素の参照\n",
        "print(x['a'])"
      ]
    },
    {
      "cell_type": "code",
      "execution_count": 67,
      "metadata": {
        "id": "svdpMNguQ-YW",
        "outputId": "b64ca351-a1c7-4aec-dbfa-67a775ec21d7",
        "colab": {
          "base_uri": "https://localhost:8080/"
        }
      },
      "outputs": [
        {
          "output_type": "stream",
          "name": "stdout",
          "text": [
            "{'a': 1, 'b': 10, 'c': 3}\n"
          ]
        }
      ],
      "source": [
        "# 値の変更\n",
        "x['b'] = 10\n",
        "print(x)"
      ]
    },
    {
      "cell_type": "markdown",
      "metadata": {
        "id": "wFOghoToQ-YW"
      },
      "source": [
        "なお、辞書にないキーに対して代入を行うと、それが新しい要素として追加されます。"
      ]
    },
    {
      "cell_type": "code",
      "execution_count": 68,
      "metadata": {
        "id": "4ptDXzSAQ-YW",
        "outputId": "efac28c6-3b08-4656-b2a8-5cf90b2c5c8d",
        "colab": {
          "base_uri": "https://localhost:8080/"
        }
      },
      "outputs": [
        {
          "output_type": "stream",
          "name": "stdout",
          "text": [
            "{'a': 1, 'b': 10, 'c': 3, 'd': 4}\n"
          ]
        }
      ],
      "source": [
        "# キーと値の追加\n",
        "x['d'] = 4\n",
        "print(x)"
      ]
    },
    {
      "cell_type": "markdown",
      "metadata": {
        "id": "S0Ius8vhQ-YW"
      },
      "source": [
        "辞書からキーや値、要素全体を取得したりするための手段も用意されています。\n",
        "\n",
        "辞書の`keys`関数(メソッド)、`values`関数(メソッド)および`items`関数(メソッド)を利用します。"
      ]
    },
    {
      "cell_type": "code",
      "execution_count": 69,
      "metadata": {
        "id": "Duy-DfEDQ-YX",
        "outputId": "c2c53fc6-4c07-45f8-af08-e45672eacea5",
        "colab": {
          "base_uri": "https://localhost:8080/"
        }
      },
      "outputs": [
        {
          "output_type": "stream",
          "name": "stdout",
          "text": [
            "dict_keys(['a', 'b', 'c'])\n"
          ]
        }
      ],
      "source": [
        "# キーの取得\n",
        "x = {'a': 1, 'b': 2, 'c': 3}\n",
        "print(x.keys())"
      ]
    },
    {
      "cell_type": "code",
      "execution_count": 70,
      "metadata": {
        "id": "nlKmAxjuQ-YX",
        "outputId": "1ef5e2d2-efe0-424f-f9d7-7f2ae795d77f",
        "colab": {
          "base_uri": "https://localhost:8080/"
        }
      },
      "outputs": [
        {
          "output_type": "stream",
          "name": "stdout",
          "text": [
            "dict_values([1, 2, 3])\n"
          ]
        }
      ],
      "source": [
        "# 要素の取得\n",
        "x = {'a': 1, 'b': 2, 'c': 3}\n",
        "print(x.values())"
      ]
    },
    {
      "cell_type": "code",
      "source": [
        "x = {'a': 1, 'b': 2, 'c': 3}\n",
        "print(x.items())"
      ],
      "metadata": {
        "id": "c6iqd2R8FI7_",
        "outputId": "df2b9e20-63de-4e32-f012-da26c716a820",
        "colab": {
          "base_uri": "https://localhost:8080/"
        }
      },
      "execution_count": 71,
      "outputs": [
        {
          "output_type": "stream",
          "name": "stdout",
          "text": [
            "dict_items([('a', 1), ('b', 2), ('c', 3)])\n"
          ]
        }
      ]
    },
    {
      "cell_type": "markdown",
      "source": [
        "## 2.1 練習問題"
      ],
      "metadata": {
        "id": "oEMN0v_IWG0X"
      }
    },
    {
      "cell_type": "markdown",
      "source": [
        "（2-1）10以下の素数を全て含むリストを書いてください。"
      ],
      "metadata": {
        "id": "wgDq4wueWK7z"
      }
    },
    {
      "cell_type": "code",
      "source": [
        "Prime_numbers = [2,3,5,7]"
      ],
      "metadata": {
        "id": "Rzc6_cwqsYd9"
      },
      "execution_count": 72,
      "outputs": []
    },
    {
      "cell_type": "markdown",
      "source": [
        "（2-2）10以下の素数を全て含むタプルを書いてください。"
      ],
      "metadata": {
        "id": "OX_KW_yPsZBn"
      }
    },
    {
      "cell_type": "code",
      "source": [
        "Prime_numbers = (2,3,5,7)"
      ],
      "metadata": {
        "id": "mPlqYvrhsZkD"
      },
      "execution_count": 73,
      "outputs": []
    },
    {
      "cell_type": "markdown",
      "source": [
        "（2-3）`'name'`という文字列をkeyに，自分の名前の文字列をvalueにしたディクショナリを書いてください。"
      ],
      "metadata": {
        "id": "mN7ucSpIsfsl"
      }
    },
    {
      "cell_type": "code",
      "source": [
        "x = {'name': 'ippei'}\n",
        "print(x)"
      ],
      "metadata": {
        "id": "3aGCB8THsfMn",
        "outputId": "2ef9a655-9aa5-4bbb-9332-39b2446d42c5",
        "colab": {
          "base_uri": "https://localhost:8080/"
        }
      },
      "execution_count": 75,
      "outputs": [
        {
          "output_type": "stream",
          "name": "stdout",
          "text": [
            "{'name': 'ippei'}\n"
          ]
        }
      ]
    },
    {
      "cell_type": "markdown",
      "source": [
        "# 3.Python文法III\n",
        "関連解説動画：https://www.youtube.com/playlist?list=PLT07SIG9QbZy4JDwxeRtLyfajJetCuhBi"
      ],
      "metadata": {
        "id": "j9Z6_Wm2i1O3"
      }
    },
    {
      "cell_type": "markdown",
      "metadata": {
        "id": "ACeegK-DZjIN"
      },
      "source": [
        "## 3.1.条件分岐（if文）"
      ]
    },
    {
      "cell_type": "markdown",
      "metadata": {
        "id": "O8qI4oAoZjIO"
      },
      "source": [
        "条件分岐とは、プログラム内で、条件によって処理の流れを変えるための機能です。ある条件が真であれば、それに伴う処理を行い、偽であれば別の処理を行います。\n",
        "\n",
        "Pythonでは`if、elif、else`によって表現されます。以下にフォーマットを示しました。\n",
        "\n",
        "```python\n",
        "if <条件式0>:\n",
        "    <(条件式0がTrueのときに実行する)処理>\n",
        "elif <条件式1>:\n",
        "    <(条件式0がFalse、条件式1がTrueのときに実行する)処理>\n",
        "else:\n",
        "    <(すべての条件式がFalseのときに実行する)処理>\n",
        "```\n",
        "\n",
        "`if`文は、条件式が`True`ならば処理を実行します。条件式が`False`のときに実行する処理を`else`節として`if`文に加えることもできます。また、条件を複数指定したい場合には`elif`節を合わせて使うことがあります。`elif`節は任意の数だけ繰り返すことができます。\n",
        "\n",
        "注意すべきなのは、(条件式がTrue/Falseとなったときに実行される)処理の前に**空白(スペース)を4つ入れなければならない**ということです。Pythonではこれを**インデント**と呼んでいます。適切にインデントが挿入されていないとエラーとなります。"
      ]
    },
    {
      "cell_type": "markdown",
      "metadata": {
        "id": "zbGUNjoMZfiC"
      },
      "source": [
        "それでは、例を見てみましょう。下の例では変数`x`の絶対値を計算し、その結果を`y`に格納しています。"
      ]
    },
    {
      "cell_type": "code",
      "execution_count": 76,
      "metadata": {
        "id": "khNI2pZCZjIO",
        "outputId": "ef8a0220-42ad-456a-cdad-77e5ae9d4f79",
        "colab": {
          "base_uri": "https://localhost:8080/"
        }
      },
      "outputs": [
        {
          "output_type": "stream",
          "name": "stdout",
          "text": [
            "1\n"
          ]
        }
      ],
      "source": [
        "# 絶対値の計算\n",
        "x = -1\n",
        "if x < 0:\n",
        "    y = -x\n",
        "else:\n",
        "    y = x\n",
        "\n",
        "print(y)"
      ]
    },
    {
      "cell_type": "markdown",
      "metadata": {
        "id": "Byg2PaaaZfiD"
      },
      "source": [
        "上では明示的に書きませんでしたが、複数の連続する処理を実行させることもできます。このとき、その処理すべての前にインデントを挿入する必要があります。プログラミングにおいて処理のまとまりのことを一般に**ブロック**と言いますが、Pythonではインデントが挿入されている部分をブロックとみなして処理しています。\n",
        "\n",
        "下の2つの例は似ているようですが全く異なるコードです。インデントに注目して動作を確認してみてください。"
      ]
    },
    {
      "cell_type": "code",
      "execution_count": 77,
      "metadata": {
        "id": "0YgjFTMTZfiD",
        "outputId": "540cad0a-d4dc-4ecb-dbd5-b49f6d7b8126",
        "colab": {
          "base_uri": "https://localhost:8080/"
        }
      },
      "outputs": [
        {
          "output_type": "stream",
          "name": "stdout",
          "text": [
            "1\n"
          ]
        }
      ],
      "source": [
        "# 例1  ※インデントの位置に注意\n",
        "x = 1\n",
        "if x < 0:\n",
        "    x = - x\n",
        "    x = - x\n",
        "print(x)"
      ]
    },
    {
      "cell_type": "code",
      "source": [
        "# 例2\n",
        "x = 1\n",
        "if x < 0:\n",
        "    x = - x\n",
        "x = - x\n",
        "print(x)"
      ],
      "metadata": {
        "id": "m6W9V-3BpBnq",
        "outputId": "d3220c55-6a6c-4a56-eaca-0a530e991e67",
        "colab": {
          "base_uri": "https://localhost:8080/"
        }
      },
      "execution_count": 78,
      "outputs": [
        {
          "output_type": "stream",
          "name": "stdout",
          "text": [
            "-1\n"
          ]
        }
      ]
    },
    {
      "cell_type": "markdown",
      "metadata": {
        "id": "Mf7pSG64aDj6"
      },
      "source": [
        "elif文を使用した例についても見てみましょう。以下の処理では、xは0未満ではないので、最初のif文の処理は適応されず、elif文の条件文に移ります。xは10未満なので、elif文の処理が適応され、yが-1となります。"
      ]
    },
    {
      "cell_type": "code",
      "execution_count": 79,
      "metadata": {
        "id": "2kD4slegaDj6",
        "outputId": "9b361d59-5580-418f-fe25-b49238f7868e",
        "colab": {
          "base_uri": "https://localhost:8080/"
        }
      },
      "outputs": [
        {
          "output_type": "stream",
          "name": "stdout",
          "text": [
            "-1\n"
          ]
        }
      ],
      "source": [
        "# elifの例\n",
        "x = 1\n",
        "if x < 0:\n",
        "    y = 0\n",
        "elif x < 10:\n",
        "\ty = -x\n",
        "else:\n",
        "    y = x\n",
        "print(y)"
      ]
    },
    {
      "cell_type": "markdown",
      "metadata": {
        "id": "lz6Ski4daDj7"
      },
      "source": [
        "続いて、条件分岐で使用される比較演算子について見てみましょう。比較演算子には以下のようなものがあります。"
      ]
    },
    {
      "cell_type": "markdown",
      "metadata": {
        "id": "wpOMmy3naDj7"
      },
      "source": [
        "|比較演算子|説明|\n",
        "|:-|:-|\n",
        "|x == y|xとyが等しい|\n",
        "|x != y|xとyが等しくない|\n",
        "|x > y|xがyよりも大きい|\n",
        "|x < y|xがyよりも小さい|\n",
        "|x >= y|xがyと等しいか大きい|\n",
        "|x <= y|xがyと等しいか小さい|"
      ]
    },
    {
      "cell_type": "code",
      "source": [
        "x = 10\n",
        "y = 20\n",
        "\n",
        "if x < y:\n",
        "    print(f\"{x} は {y} より小さい\")\n",
        "elif x == y:\n",
        "    print(f\"{x} は {y} と等しい\")\n",
        "else:\n",
        "    print(f\"{x} は {y} より大きい\")"
      ],
      "metadata": {
        "id": "2UWhL_8MPBaj",
        "outputId": "d214e2bf-5c57-4c6a-867b-ff8996778fc5",
        "colab": {
          "base_uri": "https://localhost:8080/"
        }
      },
      "execution_count": 80,
      "outputs": [
        {
          "output_type": "stream",
          "name": "stdout",
          "text": [
            "10 は 20 より小さい\n"
          ]
        }
      ]
    },
    {
      "cell_type": "markdown",
      "metadata": {
        "id": "fQr4RUIjaDj8"
      },
      "source": [
        "f は「f文字列」または「フォーマット文字列」と呼ばれます。printの引数の中に変数を埋め込むのに便利です。\n",
        "\n",
        "また、比較演算子の他に条件分岐で使用される論理演算子についても見てみましょう。論理演算子には以下のようなものがあります。"
      ]
    },
    {
      "cell_type": "markdown",
      "metadata": {
        "id": "Xf9s9oG5aDj9"
      },
      "source": [
        "|論理演算子|説明|\n",
        "|:-|:-|\n",
        "|x and y|xとyがいずれも真ならば真|\n",
        "|x or y|xとyのいずれかが真ならば真|\n",
        "|not x|xが偽ならば真|"
      ]
    },
    {
      "cell_type": "code",
      "source": [
        "# and演算子の例\n",
        "age = 25\n",
        "income = 2000\n",
        "\n",
        "# 複数の条件をand演算子で結合\n",
        "if age > 18 and income >= 700:\n",
        "    print(\"この人はローンを申し込む資格があります\")\n",
        "else:\n",
        "    print(\"この人はローンを申し込む資格がありません\")"
      ],
      "metadata": {
        "id": "1aaDWLxYPYgd",
        "outputId": "1fd6c274-f735-42a7-dc3d-c6a16f68c0b5",
        "colab": {
          "base_uri": "https://localhost:8080/"
        }
      },
      "execution_count": 81,
      "outputs": [
        {
          "output_type": "stream",
          "name": "stdout",
          "text": [
            "この人はローンを申し込む資格があります\n"
          ]
        }
      ]
    },
    {
      "cell_type": "code",
      "execution_count": 82,
      "metadata": {
        "id": "71QSY4JCaDj9",
        "outputId": "d448ff03-2798-4eca-b531-2210e137569b",
        "colab": {
          "base_uri": "https://localhost:8080/"
        }
      },
      "outputs": [
        {
          "output_type": "stream",
          "name": "stdout",
          "text": [
            "割引を受けられます\n"
          ]
        }
      ],
      "source": [
        "# or演算子の例\n",
        "is_student = False\n",
        "income = 100\n",
        "\n",
        "if is_student or income < 250:\n",
        "    print(\"割引を受けられます\")\n",
        "else:\n",
        "    print(\"割引を受けられません\")"
      ]
    },
    {
      "cell_type": "code",
      "execution_count": 83,
      "metadata": {
        "id": "kSfKtY9baDj9",
        "outputId": "d7178768-aabd-4e02-dc78-5be1d71d4ff1",
        "colab": {
          "base_uri": "https://localhost:8080/"
        }
      },
      "outputs": [
        {
          "output_type": "stream",
          "name": "stdout",
          "text": [
            "アカウントが無効です\n"
          ]
        }
      ],
      "source": [
        "# not演算子の例\n",
        "is_active = False\n",
        "\n",
        "if not is_active:  # 真偽値を反転\n",
        "    print(\"アカウントが無効です\")\n",
        "else:\n",
        "    print(\"アカウントが有効です\")"
      ]
    },
    {
      "cell_type": "markdown",
      "source": [
        "## 3.2. 繰り返し（for文）"
      ],
      "metadata": {
        "id": "MfjT3ZXZf5qN"
      }
    },
    {
      "cell_type": "markdown",
      "source": [
        "### 3.2.1. for文とrange()"
      ],
      "metadata": {
        "id": "3-GDkSXsla6W"
      }
    },
    {
      "cell_type": "markdown",
      "source": [
        "for文は、同じ処理を何度も書かずに繰り返したい場合に使用します。繰り返したい回数をrange()で指定できます。range()を使用したfor文の書き方は次のようになります。"
      ],
      "metadata": {
        "id": "nrYc6RZki0hC"
      }
    },
    {
      "cell_type": "markdown",
      "source": [
        "```python\n",
        "for <変数> in range(繰り返す回数):\n",
        "    <処理>\n",
        "```"
      ],
      "metadata": {
        "id": "rnVc-yBlht1u"
      }
    },
    {
      "cell_type": "markdown",
      "source": [
        "コロン（:）や処理前のインデント（スペース4つやタブ）は省略できないため、注意が必要です。rangeで使用した回数が終わるまで処理が繰り返されます。変数には0から処理ごとに1ずつ増えた値が代入されます。定義する変数に特別な意味がなければ、変数名にi(indexやiteratorの略)やj、k（i以降のアルファベット）がよく用いられます。"
      ],
      "metadata": {
        "id": "2esD3px4kSqm"
      }
    },
    {
      "cell_type": "markdown",
      "source": [
        "次に同じような処理の繰り返しのコード例とfor文で繰り返した処理の例を示します。"
      ],
      "metadata": {
        "id": "Y5WPKxkvlKDA"
      }
    },
    {
      "cell_type": "code",
      "source": [
        "#同じような処理の繰り返し\n",
        "print('Python', 0)\n",
        "print('Python', 1)\n",
        "print('Python', 2)\n",
        "print('Python', 3)\n",
        "print('Python', 4)"
      ],
      "metadata": {
        "id": "qPcRmJLgkuYI",
        "outputId": "c73158ee-e5ee-4e9f-dd88-4bcf8219347d",
        "colab": {
          "base_uri": "https://localhost:8080/"
        }
      },
      "execution_count": 84,
      "outputs": [
        {
          "output_type": "stream",
          "name": "stdout",
          "text": [
            "Python 0\n",
            "Python 1\n",
            "Python 2\n",
            "Python 3\n",
            "Python 4\n"
          ]
        }
      ]
    },
    {
      "cell_type": "code",
      "source": [
        "#for文を用いた繰り返し処理\n",
        "for i in range(5):\n",
        "    print('Python文法', i)"
      ],
      "metadata": {
        "id": "jv5Dt9WEkWcr",
        "outputId": "a072f76b-02b4-4996-c6e7-0cbb67803931",
        "colab": {
          "base_uri": "https://localhost:8080/"
        }
      },
      "execution_count": 85,
      "outputs": [
        {
          "output_type": "stream",
          "name": "stdout",
          "text": [
            "Python文法 0\n",
            "Python文法 1\n",
            "Python文法 2\n",
            "Python文法 3\n",
            "Python文法 4\n"
          ]
        }
      ]
    },
    {
      "cell_type": "markdown",
      "source": [
        "print()のかっこ内に複数の値をカンマ（,）で挟むとスペースが間に入って出力されます。"
      ],
      "metadata": {
        "id": "7V61kr7Fp3Xt"
      }
    },
    {
      "cell_type": "code",
      "source": [
        "#for文を用いた繰り返し処理 (開始、終了を指定するやりかた)\n",
        "s = 0\n",
        "for n in range(1,11): #1以上11未満の整数\n",
        "    s = s + n\n",
        "print(s)"
      ],
      "metadata": {
        "id": "hPRWpi5NbIPo",
        "outputId": "36d9c7af-60c7-4fa0-ddc0-bb782824951d",
        "colab": {
          "base_uri": "https://localhost:8080/"
        }
      },
      "execution_count": 86,
      "outputs": [
        {
          "output_type": "stream",
          "name": "stdout",
          "text": [
            "55\n"
          ]
        }
      ]
    },
    {
      "cell_type": "markdown",
      "source": [
        "### 3.2.2. for文とlist"
      ],
      "metadata": {
        "id": "sTjYJHLMlw90"
      }
    },
    {
      "cell_type": "markdown",
      "source": [
        "for文は、Python文法Ⅱで扱ったリストと組み合わせることができます。range()を使ってリストの要素分繰り返す方法もありますが、inの後ろにリストを置くとリストの中から各要素を順に取り出して処理を繰り返せます。リストを使ったfor文の書き方は以下の通りです。"
      ],
      "metadata": {
        "id": "Ub3p2u2Vl7IT"
      }
    },
    {
      "cell_type": "markdown",
      "source": [
        "```python\n",
        "for <変数> in <リスト>:\n",
        "    <処理>\n",
        "```"
      ],
      "metadata": {
        "id": "R52pwA3Nh_tf"
      }
    },
    {
      "cell_type": "markdown",
      "source": [
        "リストの要素が変数に順に代入され、要素数分の処理が繰り返されます。"
      ],
      "metadata": {
        "id": "p9AqmC7Vmdr0"
      }
    },
    {
      "cell_type": "markdown",
      "source": [
        "\n",
        "\n",
        "次にfor文とリストを組み合わせた例とrange()を利用した例を示します。\n"
      ],
      "metadata": {
        "id": "LNshG55liUry"
      }
    },
    {
      "cell_type": "code",
      "source": [
        "#for文とリスト\n",
        "number = [1, 2, 3, 4, 5]\n",
        "for n in number:\n",
        "    print(n)"
      ],
      "metadata": {
        "id": "FMdEs1G4nYTA",
        "outputId": "74898f22-31e0-4d90-c747-f088da495735",
        "colab": {
          "base_uri": "https://localhost:8080/"
        }
      },
      "execution_count": 87,
      "outputs": [
        {
          "output_type": "stream",
          "name": "stdout",
          "text": [
            "1\n",
            "2\n",
            "3\n",
            "4\n",
            "5\n"
          ]
        }
      ]
    },
    {
      "cell_type": "code",
      "source": [
        "#for文とリスト\n",
        "number = [1, 2, 3, 4, 5]\n",
        "s = 0\n",
        "for n in number:\n",
        "    s = s + n # sにリストの要素を足し合わせる\n",
        "print(s)"
      ],
      "metadata": {
        "id": "OD-188PJMolh",
        "outputId": "6a4161c4-5eb2-4856-c27c-c1f818295c26",
        "colab": {
          "base_uri": "https://localhost:8080/"
        }
      },
      "execution_count": 88,
      "outputs": [
        {
          "output_type": "stream",
          "name": "stdout",
          "text": [
            "15\n"
          ]
        }
      ]
    },
    {
      "cell_type": "code",
      "source": [
        "#for文とrange()とリスト\n",
        "number = [1, 2, 3, 4, 5]\n",
        "s = 0\n",
        "for i in range(len(number)):\n",
        "    s = s + number[i]\n",
        "print(s)"
      ],
      "metadata": {
        "id": "cbftlBP5M2fw",
        "outputId": "8b5ad63d-9d21-405a-b632-cce47d9b8f94",
        "colab": {
          "base_uri": "https://localhost:8080/"
        }
      },
      "execution_count": 89,
      "outputs": [
        {
          "output_type": "stream",
          "name": "stdout",
          "text": [
            "15\n"
          ]
        }
      ]
    },
    {
      "cell_type": "markdown",
      "source": [
        "### 3.2.3. for文とenumerate()"
      ],
      "metadata": {
        "id": "gjRZ60FCqDw2"
      }
    },
    {
      "cell_type": "markdown",
      "source": [
        "リストとfor文の組み合わせでインデックスと要素の両方を使用したい場合があります。その場合enumerate()が便利です。リストにenumerate()を使ったfor文の書き方は以下の通りです。"
      ],
      "metadata": {
        "id": "2CiqKkuLqLEh"
      }
    },
    {
      "cell_type": "markdown",
      "source": [
        "```python\n",
        "for <変数1>, <変数2> in enumerate(<リスト>):\n",
        "    <処理>\n",
        "```"
      ],
      "metadata": {
        "id": "_T58Qx8EiAjv"
      }
    },
    {
      "cell_type": "markdown",
      "source": [
        "なお、enumerateは数え上げるという意味の英単語です。"
      ],
      "metadata": {
        "id": "spuNyU4BsNm7"
      }
    },
    {
      "cell_type": "markdown",
      "source": [
        "変数1にリストのインデックスが、変数2にリストの要素が順に代入され、処理が繰り返されます。以下にenumerateを使ってリストのインデックスと要素を順に抽出した場合とrangeで抽出するコード例を示します。"
      ],
      "metadata": {
        "id": "76cyjGHMrrNL"
      }
    },
    {
      "cell_type": "code",
      "source": [
        "# emumerate(リスト)でインデックスと要素を順に抽出\n",
        "menu = ['salad', 'soup', 'steak', 'cake']\n",
        "for i, food in enumerate(menu):\n",
        "    print(i, food)"
      ],
      "metadata": {
        "id": "xeqhQ45hqRns",
        "outputId": "2a7d16c9-49bf-41cd-cc13-4eff1a1c79c5",
        "colab": {
          "base_uri": "https://localhost:8080/"
        }
      },
      "execution_count": 90,
      "outputs": [
        {
          "output_type": "stream",
          "name": "stdout",
          "text": [
            "0 salad\n",
            "1 soup\n",
            "2 steak\n",
            "3 cake\n"
          ]
        }
      ]
    },
    {
      "cell_type": "code",
      "source": [
        "#emumerateを使わずにrangeでインデックスと要素を順に抽出\n",
        "menu = ['salad', 'soup','steak', 'cake']\n",
        "for i in range(len(menu)):\n",
        "    print(i, menu[i])"
      ],
      "metadata": {
        "id": "ynyRUZkHrB95",
        "outputId": "00f01601-5977-4815-8cfb-957a341247c0",
        "colab": {
          "base_uri": "https://localhost:8080/"
        }
      },
      "execution_count": 91,
      "outputs": [
        {
          "output_type": "stream",
          "name": "stdout",
          "text": [
            "0 salad\n",
            "1 soup\n",
            "2 steak\n",
            "3 cake\n"
          ]
        }
      ]
    },
    {
      "cell_type": "markdown",
      "source": [
        "## 3.3. 練習問題"
      ],
      "metadata": {
        "id": "AHogHXVihom-"
      }
    },
    {
      "cell_type": "markdown",
      "source": [
        "(3-1) if文を用いて好きなプログラムを書いてください。\n",
        "\n"
      ],
      "metadata": {
        "id": "pCSEnKI8U1e4"
      }
    },
    {
      "cell_type": "code",
      "source": [
        "x = 10\n",
        "y = 20\n",
        "\n",
        "if x < y:\n",
        "    print(f\"{x} は {y} より小さい\")\n",
        "elif x == y:\n",
        "    print(f\"{x} は {y} と等しい\")\n",
        "else:\n",
        "    print(f\"{x} は {y} より大きい\")"
      ],
      "metadata": {
        "id": "uFwhdEO5Ra1x",
        "outputId": "b9272a40-ce0c-4832-f6fd-02f75a13507c",
        "colab": {
          "base_uri": "https://localhost:8080/"
        }
      },
      "execution_count": 92,
      "outputs": [
        {
          "output_type": "stream",
          "name": "stdout",
          "text": [
            "10 は 20 より小さい\n"
          ]
        }
      ]
    },
    {
      "cell_type": "markdown",
      "source": [
        "(3-2) for文を用いて好きなプログラムを書いてください。"
      ],
      "metadata": {
        "id": "d6iYNyArRWW8"
      }
    },
    {
      "cell_type": "code",
      "source": [
        "for i in range(5):\n",
        "  print(i)"
      ],
      "metadata": {
        "id": "hbpNm1nxRbM4",
        "outputId": "380771d7-ff1d-4cd3-e927-a2a7b466fcdf",
        "colab": {
          "base_uri": "https://localhost:8080/"
        }
      },
      "execution_count": 95,
      "outputs": [
        {
          "output_type": "stream",
          "name": "stdout",
          "text": [
            "0\n",
            "1\n",
            "2\n",
            "3\n",
            "4\n"
          ]
        }
      ]
    },
    {
      "cell_type": "markdown",
      "metadata": {
        "id": "VpjCvhi6Q-YX"
      },
      "source": [
        "(3-3) 要素がすべて整数値であって、長さが1以上のリストが変数`x`に格納されているとします。`x`の要素の中で最も大きい要素を返すプログラムを作成してください。ただし、`max`関数などは使用せず、ループ（for文での繰り返し）で実現してください。"
      ]
    },
    {
      "cell_type": "code",
      "execution_count": 130,
      "metadata": {
        "id": "PNrxgiSPQ-YY"
      },
      "outputs": [],
      "source": [
        "# 入力例\n",
        "x = [1, 2, 3, 4, 6, 12, 11]"
      ]
    },
    {
      "cell_type": "code",
      "execution_count": 131,
      "metadata": {
        "id": "T31eGDweQ-YY",
        "outputId": "d2d6b239-c4b1-41ff-e827-2554b40162af",
        "colab": {
          "base_uri": "https://localhost:8080/"
        }
      },
      "outputs": [
        {
          "output_type": "stream",
          "name": "stdout",
          "text": [
            "12\n"
          ]
        }
      ],
      "source": [
        "# write me!\n",
        "max_value = x[0]\n",
        "# リストの2番目以降の要素を順に確認\n",
        "for num in x[1:]:\n",
        "  if num > max_value:\n",
        "    max_value = num  # より大きい値があれば更新\n",
        "\n",
        "print(max_value)"
      ]
    },
    {
      "cell_type": "markdown",
      "source": [
        "# 4.Python文法IV\n",
        "関連解説動画：https://www.youtube.com/playlist?list=PLT07SIG9QbZy4JDwxeRtLyfajJetCuhBi"
      ],
      "metadata": {
        "id": "L5EgwJBoi7Ja"
      }
    },
    {
      "cell_type": "markdown",
      "source": [
        "## 4.1. 関数"
      ],
      "metadata": {
        "id": "qp-RKOZbOW9r"
      }
    },
    {
      "cell_type": "markdown",
      "metadata": {
        "id": "_UgbfMOrQ-YO"
      },
      "source": [
        "プログラムを作成していると、以前作成したものを再度利用したいと思うことがあるかもしれません。**関数**を利用することで、その処理の流れに名前をつけて保存し、必要になったら呼び出すことができるようになります。そのような決められた処理を実行するコードを関数と言います。\n",
        "\n",
        "フォーマットは以下の通りです。\n",
        "\n",
        "- 関数定義\n",
        "\n",
        "```python\n",
        "def <関数名>(<引数>, ...):\n",
        "    <関数内部の処理>\n",
        "```\n",
        "\n",
        "- 関数呼び出し\n",
        "\n",
        "```python\n",
        "<関数名>(<引数>, ...)\n",
        "```\n",
        "\n",
        "関数を呼び出すとき、0個以上の**引数**を渡します。関数内の処理ではこの引数の値を利用することができます。これだけでは理解しづらいと思うので、絶対値を求めるプログラムを例にとって具体的に説明します。\n",
        "\n",
        "ある`x`が与えられたとき、その絶対値`y`は下のプログラムを利用して求めることができます。"
      ]
    },
    {
      "cell_type": "code",
      "execution_count": 104,
      "metadata": {
        "id": "9tdABUZ0Q-YO",
        "outputId": "24ada070-e503-43bc-83b3-a524b0553a4a",
        "colab": {
          "base_uri": "https://localhost:8080/"
        }
      },
      "outputs": [
        {
          "output_type": "stream",
          "name": "stdout",
          "text": [
            "1\n"
          ]
        }
      ],
      "source": [
        "# 絶対値を求めるプログラム\n",
        "x = -1\n",
        "if (x < 0):\n",
        "    y = - x\n",
        "else:\n",
        "    y = x\n",
        "print(y)"
      ]
    },
    {
      "cell_type": "markdown",
      "metadata": {
        "id": "cLx0Jh8TQ-YP"
      },
      "source": [
        "この処理の流れを関数にしたいと思います。関数を利用するためには、まず関数を**定義**する必要があります。関数定義は下のようにします。"
      ]
    },
    {
      "cell_type": "code",
      "execution_count": 105,
      "metadata": {
        "id": "FhHvslNWQ-YP",
        "outputId": "9392b8a9-e428-47f2-c311-457d4b9afe9a",
        "colab": {
          "base_uri": "https://localhost:8080/"
        }
      },
      "outputs": [
        {
          "output_type": "stream",
          "name": "stdout",
          "text": [
            "1\n"
          ]
        }
      ],
      "source": [
        "# 絶対値を求める関数の定義\n",
        "def absolute(x):\n",
        "    if (x < 0):\n",
        "        y = - x\n",
        "    else:\n",
        "        y = x\n",
        "    return y\n",
        "\n",
        "# 絶対値を求める関数の呼び出し\n",
        "print(absolute(-1))"
      ]
    },
    {
      "cell_type": "markdown",
      "metadata": {
        "id": "f9J3xe7jQ-YP"
      },
      "source": [
        "ここで関数名は絶対値(absolute value)を意味する`absolute`としています。この関数を呼び出す(利用する)ときにはこの名前を使います。\n",
        "\n",
        "この`absolute`関数を呼び出してみます。関数を呼び出すときには引数を与える必要がありますが、これは定義したときと同じ個数である必要があります。"
      ]
    },
    {
      "cell_type": "markdown",
      "metadata": {
        "id": "o417f1XMQ-YP"
      },
      "source": [
        "関数内の処理では引数の値を利用することができると言いましたが、より詳しく言えば「関数呼び出しのときに与えた引数が、関数定義のときに与えた引数のところにコピーされる」ということです。上の例では、関数呼び出しのときに-1を引数として与えていますが、それは関数定義したときに与えた引数`x`にコピーされています。\n",
        "\n",
        "プログラミングの用語では、関数定義のときに与えた引数のことを**仮引数**、関数呼び出しのときに与えた引数のことを**実引数**と呼んでいます。\n",
        "\n",
        "関数の評価値は、関数内部で`return`した値になります。これを**返り値**と言います。上の例では`y`が返り値となりますが、これが`x`の絶対値になっていることが確認できると思います。"
      ]
    },
    {
      "cell_type": "markdown",
      "metadata": {
        "id": "TMcgLRFLQ-YP"
      },
      "source": [
        "なお、複数の引数を持つ関数を定義することもできます。ただし、実引数の順は仮引数のそれに対応していることに注意してください。"
      ]
    },
    {
      "cell_type": "code",
      "execution_count": 106,
      "metadata": {
        "id": "lMnXy223Q-YP"
      },
      "outputs": [],
      "source": [
        "# べき乗を求める関数\n",
        "def power(x, y):\n",
        "    return x ** y"
      ]
    },
    {
      "cell_type": "code",
      "execution_count": 107,
      "metadata": {
        "id": "LI_wApmwQ-YP",
        "outputId": "1ed5be64-6497-4f17-c0c0-7d3d81ebf932",
        "colab": {
          "base_uri": "https://localhost:8080/"
        }
      },
      "outputs": [
        {
          "output_type": "execute_result",
          "data": {
            "text/plain": [
              "8"
            ]
          },
          "metadata": {},
          "execution_count": 107
        }
      ],
      "source": [
        "power(2, 3)"
      ]
    },
    {
      "cell_type": "code",
      "execution_count": 108,
      "metadata": {
        "id": "bQIYIdD7Q-YP",
        "outputId": "618c1b2c-a485-4a6e-ca5e-f2456dbcbf65",
        "colab": {
          "base_uri": "https://localhost:8080/"
        }
      },
      "outputs": [
        {
          "output_type": "execute_result",
          "data": {
            "text/plain": [
              "9"
            ]
          },
          "metadata": {},
          "execution_count": 108
        }
      ],
      "source": [
        "power(3, 2)"
      ]
    },
    {
      "cell_type": "markdown",
      "metadata": {
        "id": "MjB4q71TQ-YQ"
      },
      "source": [
        "仮引数と実引数の対応を明示的に指定する場合には、`<仮引数>=<実引数>`という形式で指定します。この形式で渡す引数を**キーワード引数**と言います。それに対して、明示的には指定しない(実引数の順が仮引数のそれに対応していると仮定する)場合の引数を**位置引数**と呼ぶことがあります。"
      ]
    },
    {
      "cell_type": "code",
      "execution_count": 109,
      "metadata": {
        "id": "VFzU_P15Q-YQ",
        "outputId": "10c66070-37b0-42b5-af17-5c12f418b375",
        "colab": {
          "base_uri": "https://localhost:8080/"
        }
      },
      "outputs": [
        {
          "output_type": "execute_result",
          "data": {
            "text/plain": [
              "9"
            ]
          },
          "metadata": {},
          "execution_count": 109
        }
      ],
      "source": [
        "power(y=2, x=3)"
      ]
    },
    {
      "cell_type": "markdown",
      "metadata": {
        "id": "-ow9Q8aNQ-YQ"
      },
      "source": [
        "さらに、引数(の一部)に既定値を与えておき、その引数を省略可能とすることもできます。これを**デフォルト引数**と言います。関数呼び出しの際にその引数が省略された場合、既定値が使用されます。"
      ]
    },
    {
      "cell_type": "code",
      "execution_count": 110,
      "metadata": {
        "id": "X0Dw-W6uQ-YQ"
      },
      "outputs": [],
      "source": [
        "def power(x=1, y=1):\n",
        "    return x ** y"
      ]
    },
    {
      "cell_type": "code",
      "execution_count": 111,
      "metadata": {
        "id": "N_j8adBuQ-YQ",
        "outputId": "63b1377d-46a1-4634-e3a3-109fa80febaf",
        "colab": {
          "base_uri": "https://localhost:8080/"
        }
      },
      "outputs": [
        {
          "output_type": "execute_result",
          "data": {
            "text/plain": [
              "3"
            ]
          },
          "metadata": {},
          "execution_count": 111
        }
      ],
      "source": [
        "power(x=3)"
      ]
    },
    {
      "cell_type": "markdown",
      "source": [
        "## 4.2.練習問題"
      ],
      "metadata": {
        "id": "xScuQ5sXUigO"
      }
    },
    {
      "cell_type": "markdown",
      "metadata": {
        "id": "zXQKjy_-Q-YY"
      },
      "source": [
        "(4-1) 長さが1以上の文字列を引数`x`とし、`x`の最後の1文字を返す関数`f`を定義してください。"
      ]
    },
    {
      "cell_type": "code",
      "source": [
        "# 入力例\n",
        "x = 'python'"
      ],
      "metadata": {
        "id": "uTg1WCqMicCX"
      },
      "execution_count": null,
      "outputs": []
    },
    {
      "cell_type": "code",
      "execution_count": 115,
      "metadata": {
        "id": "eTYwB8KkQ-YY",
        "outputId": "602c7efa-cdaa-492b-835e-1f511a1c0ecb",
        "colab": {
          "base_uri": "https://localhost:8080/",
          "height": 106
        }
      },
      "outputs": [
        {
          "output_type": "error",
          "ename": "SyntaxError",
          "evalue": "invalid syntax (<ipython-input-115-b673e30fc436>, line 2)",
          "traceback": [
            "\u001b[0;36m  File \u001b[0;32m\"<ipython-input-115-b673e30fc436>\"\u001b[0;36m, line \u001b[0;32m2\u001b[0m\n\u001b[0;31m    def f:\u001b[0m\n\u001b[0m         ^\u001b[0m\n\u001b[0;31mSyntaxError\u001b[0m\u001b[0;31m:\u001b[0m invalid syntax\n"
          ]
        }
      ],
      "source": [
        "# write me!\n",
        "def f:\n",
        ""
      ]
    },
    {
      "cell_type": "markdown",
      "metadata": {
        "id": "M0zaovn-Q-YY"
      },
      "source": [
        "(4-2) 辞書を引数`x`とし、`x`に格納されているキーの数を返す関数`f`を定義してください。"
      ]
    },
    {
      "cell_type": "code",
      "source": [
        "# 入力例\n",
        "x = {\"a\": 1, \"b\": 2, \"c\": 3, 'd':4, 'e':5}"
      ],
      "metadata": {
        "id": "U4RoIwpLij0l"
      },
      "execution_count": null,
      "outputs": []
    },
    {
      "cell_type": "code",
      "execution_count": null,
      "metadata": {
        "id": "Q3crlp11Q-YY"
      },
      "outputs": [],
      "source": [
        "# write me!"
      ]
    },
    {
      "cell_type": "markdown",
      "metadata": {
        "id": "UOAiQVDLQ-YY"
      },
      "source": [
        "(4-3) リストを引数`x`とし、`x`の要素を逆順に並べたリストを返す関数`f`を定義してください。ただし、`reversed`関数などは使用せず、ループやリストのスライスで実現してください。"
      ]
    },
    {
      "cell_type": "code",
      "source": [
        "# 入力例\n",
        "x = [3, 9, 7, 1, 0]"
      ],
      "metadata": {
        "id": "xd2eLaPUixh3"
      },
      "execution_count": 116,
      "outputs": []
    },
    {
      "cell_type": "code",
      "execution_count": 117,
      "metadata": {
        "id": "ONwteVyaQ-YY"
      },
      "outputs": [],
      "source": [
        "# write me!"
      ]
    },
    {
      "cell_type": "markdown",
      "source": [
        "（4-4）以下の関数は，「私の年齢はX歳です。」と表示するために作成しようとした関数ですが，そのままではエラーとなります。以下の関数を修正してください。関数の引数である`age`は整数を想定しています。`msg`に表示する文字列を代入し，それを辞書に入れ，出力する際は辞書のkeyを指定してprintに入力してください。"
      ],
      "metadata": {
        "id": "Q-ICRcdKWX8h"
      }
    },
    {
      "cell_type": "code",
      "source": [
        "def print_my_age(age)\n",
        "    msg = '私の年齢は' + age + '歳です。'\n",
        "    msg_dict = {'msg': msg}\n",
        "    print(msg_dict['message'])\n",
        "\n",
        "print_my_age(18)"
      ],
      "metadata": {
        "id": "JD_WMgQ_Web4",
        "outputId": "be52fec9-dd2a-4a13-cfa9-57a49f73d5ef",
        "colab": {
          "base_uri": "https://localhost:8080/",
          "height": 106
        }
      },
      "execution_count": 118,
      "outputs": [
        {
          "output_type": "error",
          "ename": "SyntaxError",
          "evalue": "expected ':' (<ipython-input-118-ada19f385ffa>, line 1)",
          "traceback": [
            "\u001b[0;36m  File \u001b[0;32m\"<ipython-input-118-ada19f385ffa>\"\u001b[0;36m, line \u001b[0;32m1\u001b[0m\n\u001b[0;31m    def print_my_age(age)\u001b[0m\n\u001b[0m                         ^\u001b[0m\n\u001b[0;31mSyntaxError\u001b[0m\u001b[0;31m:\u001b[0m expected ':'\n"
          ]
        }
      ]
    },
    {
      "cell_type": "markdown",
      "metadata": {
        "id": "ATsX3QN6FRpZ"
      },
      "source": [
        "## 4.3 モジュール・ライブラリ"
      ]
    },
    {
      "cell_type": "markdown",
      "metadata": {
        "id": "0uwt9RSEFRpZ"
      },
      "source": [
        "プログラムを開発していると、他のプログラムファイルで定義した関数やクラスを使いたい、ということがあります。Pythonではそれを**モジュール**として取り込むことができます。モジュールは部品という意味で、通常1つのプログラムファイルを表します。\n",
        "\n",
        "モジュールを複数まとめたものを**パッケージ**と言い、さらにパッケージをまとめたものを**ライブラリ**と言います。この辺りの呼称は明確に決まっているわけではなく、モジュールやパッケージのことをライブラリと言うこともあるようです。以下では「モジュール」と「ライブラリ」という2つの用語を使いますが、それぞれ「1つのプログラムファイル」と「複数のプログラムファイルをまとめたもの」という意味であるとして読み進めてください。"
      ]
    },
    {
      "cell_type": "markdown",
      "metadata": {
        "id": "HxhHpO2GFRpZ"
      },
      "source": [
        "Pythonでは`import`することでモジュールを読み込むことができます。(同じディレクトリ内に存在する)プログラムファイル名を`functions.py`とすると、下のように書きます。"
      ]
    },
    {
      "cell_type": "markdown",
      "metadata": {
        "id": "uTFIPIdsFRpZ"
      },
      "source": [
        "```python\n",
        "import functions\n",
        "```"
      ]
    },
    {
      "cell_type": "markdown",
      "metadata": {
        "id": "9pKsxUhZFRpZ"
      },
      "source": [
        "`import`すると、そのプログラムファイルで定義された関数やクラスを利用することができます。試しに`example.py`で定義されている関数`f`を呼び出してみましょう。この関数`f`は恒等関数で、1つの引数を受け取ってそれをそのまま返します。"
      ]
    },
    {
      "cell_type": "markdown",
      "metadata": {
        "id": "9eXIiEvbFRpZ"
      },
      "source": [
        "```python\n",
        "functions.Nibai(2)\n",
        "```"
      ]
    },
    {
      "cell_type": "markdown",
      "metadata": {
        "id": "8rjRlc2wFRpZ"
      },
      "source": [
        "開発が進んでプログラムのサイズが大きくなってくると、それを細かい部品に分割して管理することが重要になります。機能ごとに関数およびクラスをまとめて別のファイルに切り出すことで、プログラムの見通しがよくなることが多いです。大きな開発をする際には心がけると良いでしょう。"
      ]
    },
    {
      "cell_type": "markdown",
      "metadata": {
        "id": "cxFapzpFFRpZ"
      },
      "source": [
        "続いてライブラリの話題に移ります。Pythonでは標準ライブラリというものが用意されており、様々な機能を利用することができます。標準ライブラリに含まれるモジュールの1つに、数学関数をまとめた`math`モジュールがあります。ここではそれを取り上げて説明します。"
      ]
    },
    {
      "cell_type": "markdown",
      "metadata": {
        "id": "AvrPv4a1FRpZ"
      },
      "source": [
        "`math`モジュールには指数関数、対数関数、三角関数などが定義されており、それを`import`することで利用できるようになります。実際に利用するときには`<モジュール名>.<変数名/関数名/クラス名>`とします。"
      ]
    },
    {
      "cell_type": "code",
      "execution_count": 119,
      "metadata": {
        "id": "V7CnsE_rFRpZ"
      },
      "outputs": [],
      "source": [
        "import math"
      ]
    },
    {
      "cell_type": "code",
      "execution_count": 120,
      "metadata": {
        "id": "_d1KIHwvFRpZ",
        "outputId": "a707e050-34dd-423e-ce0f-a2ba35c9ae14",
        "colab": {
          "base_uri": "https://localhost:8080/"
        }
      },
      "outputs": [
        {
          "output_type": "execute_result",
          "data": {
            "text/plain": [
              "2.718281828459045"
            ]
          },
          "metadata": {},
          "execution_count": 120
        }
      ],
      "source": [
        "# 指数関数\n",
        "math.exp(1.0)"
      ]
    },
    {
      "cell_type": "code",
      "execution_count": 121,
      "metadata": {
        "id": "jeLbH1UdFRpa",
        "outputId": "d06b4897-ac63-49c2-82f3-15e6f1d3a29a",
        "colab": {
          "base_uri": "https://localhost:8080/"
        }
      },
      "outputs": [
        {
          "output_type": "execute_result",
          "data": {
            "text/plain": [
              "1.0"
            ]
          },
          "metadata": {},
          "execution_count": 121
        }
      ],
      "source": [
        "# 対数関数\n",
        "math.log(math.e)"
      ]
    },
    {
      "cell_type": "markdown",
      "metadata": {
        "id": "CeJVbdpsFRpa"
      },
      "source": [
        "`from <モジュール名> import <変数名/関数名/クラス名>`とすると、モジュール名なしに変数/関数/クラスを利用することができます。"
      ]
    },
    {
      "cell_type": "code",
      "execution_count": 122,
      "metadata": {
        "id": "gNMxm4NwFRpa"
      },
      "outputs": [],
      "source": [
        "from math import sin\n",
        "from math import cos\n",
        "from math import tan\n",
        "from math import pi"
      ]
    },
    {
      "cell_type": "code",
      "execution_count": 123,
      "metadata": {
        "id": "sxgtaOt6FRpa",
        "outputId": "5b5116d3-7b39-4b66-8618-87e2acfb8ddd",
        "colab": {
          "base_uri": "https://localhost:8080/"
        }
      },
      "outputs": [
        {
          "output_type": "execute_result",
          "data": {
            "text/plain": [
              "1.2246467991473532e-16"
            ]
          },
          "metadata": {},
          "execution_count": 123
        }
      ],
      "source": [
        "# 三角関数\n",
        "sin(pi)"
      ]
    },
    {
      "cell_type": "code",
      "execution_count": 124,
      "metadata": {
        "id": "AUa0ZZJ8FRpa",
        "outputId": "d7be33f1-7420-4786-d174-925a60a45eb4",
        "colab": {
          "base_uri": "https://localhost:8080/"
        }
      },
      "outputs": [
        {
          "output_type": "execute_result",
          "data": {
            "text/plain": [
              "-1.0"
            ]
          },
          "metadata": {},
          "execution_count": 124
        }
      ],
      "source": [
        "# 三角関数\n",
        "cos(pi)"
      ]
    },
    {
      "cell_type": "code",
      "execution_count": 125,
      "metadata": {
        "id": "dMoNRi7GFRpa",
        "outputId": "a38c14f7-8209-4b12-ba5b-0a9600aaef66",
        "colab": {
          "base_uri": "https://localhost:8080/"
        }
      },
      "outputs": [
        {
          "output_type": "execute_result",
          "data": {
            "text/plain": [
              "-1.2246467991473532e-16"
            ]
          },
          "metadata": {},
          "execution_count": 125
        }
      ],
      "source": [
        "# 三角関数\n",
        "tan(pi)"
      ]
    },
    {
      "cell_type": "markdown",
      "metadata": {
        "id": "K8JOBsp6FRpa"
      },
      "source": [
        "Pythonが提供している標準ライブラリ以外にも、様々なライブラリが開発されて一般に公開されています。こうしたライブラリのことを(標準ライブラリと区別して)外部ライブラリと呼んでいます。Pythonは外部ライブラリが最も充実している言語の1つです。特に本講義で扱うデータ分析・機械学習のためのライブラリが充実しているため、機械学習を行うときに用いるプログラミング言語としてPythonを選ぶ人は多いです。外部ライブラリについては次週以降で学習します。"
      ]
    }
  ]
}